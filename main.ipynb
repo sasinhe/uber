{
 "cells": [
  {
   "cell_type": "markdown",
   "metadata": {},
   "source": [
    "# Algoritmo de Seleção de Endereços - Projeto Uber\n",
    "\n",
    "\n",
    "## Objetivo\n",
    "O objetivo deste algoritmo é gerar um conjunto de pares de endereços na cidade de São Paulo para o treinamento de um modelo de precificação de corridas de Uber.\n",
    "\n",
    "## Metodologia\n",
    "O algoritmo terá natureza estocástica, dando preferência para endereços de chegada em distritos com maior densidade populacional e renda média por habitante (fatores relevantes para o uso do aplicativo Uber).\n",
    "\n",
    "Para os endereços de saída, o algoritmo usará uma função de decaimento exponencial $P(d)$ (descrita abaixo) para gerar uma distância máxima para o endereço do destino, onde escolherá o endereço de destino uniformemente dentro desse intervalo.\n",
    "\n",
    "\n",
    "Usaremos o conjunto de dados geográficos (disponível como um arquivo `.shape` com um grafo representando as ruas de São Paulo) distribuído pela plataforma [GeoSampa](https://geosampa.prefeitura.sp.gov.br) da Prefeitura de São Paulo para acessar os endereços disponíveis dentro da distância $d$ da origem.\n",
    "\n",
    "## WIP\n",
    "\n",
    "TODOs:\n",
    "- Unificar .shape de Logradouros e Distritos\n",
    "- Checar a necessidade de titulos e prep no logradouro (ver comentario)\n",
    "<!--\n",
    "print(gdf['lg_titulo'].unique())\n",
    "Reescrevendo os títulos em extenso \n",
    " gdf['lg_titulo'] = gdf['lg_titulo'].replace({\n",
    "     'ENG': 'Engenheiro',\n",
    "     'PROF': 'Professor'\n",
    "     ''\n",
    " })\n",
    "-->\n",
    "\n",
    "\n",
    "## Results\n",
    "Describe and comment the most important results.\n",
    "\n",
    "## Suggested next steps\n",
    "State suggested next steps, based on results obtained in this notebook."
   ]
  },
  {
   "cell_type": "markdown",
   "metadata": {},
   "source": [
    "### Implementação em Código Python\n",
    "\n",
    "A implementação segue as etapas principais descritas abaixo:\n",
    "\n",
    "1. __Carregamento e Preparação dos Dados:__\n",
    "\n",
    "   - Utilizaremos a biblioteca `geopandas` para manipular arquivos `.shapefile`.\n",
    "   - \n",
    "2. __Cálculo das Probabilidades de Escolha:__\n",
    "\n",
    "   - Importe os dados do IBGE utilizando `pandas`.\n",
    "   - Calcularemos a probabilidade de um distrito $\\bar{d}$ com base na população e renda dos distritos.\n",
    "   $$\n",
    "   \\text{Probabilidade}(\\bar{d}) = \\frac{\\text{População}(\\bar{d}) \\cdot \\text{RendaMédia}(\\bar{d})}{\\sum^{distritos}_{d} (\\text{População}(d) \\cdot \\text{RendaMédia}(d))}\n",
    "   $$\n",
    "3. __Seleção do Endereço de Origem:__\n",
    "\n",
    "   - Escolha aleatória de uma rua com `numpy.random.choice`.\n",
    "   - Geração de um número dentro do intervalo válido.\n",
    "4. __Seleção do Endereço de Destino:__\n",
    "\n",
    "   - Use $P(r)$ para calcular o raio máximo:\n",
    "\n",
    "     $$\n",
    "     P(r) = \\frac{1}{\\sqrt{2\\pi}\\sigma} e^{-\\frac{r^2}{2\\sigma^2}}\n",
    "     $$\n",
    "   - Escolha uniformemente dentro do raio usando coordenadas do grafo.\n",
    "5. **Visualização dos Resultados:**\n",
    "\n",
    "   - Use `matplotlib` ou `folium` para criar mapas interativos.\n",
    "\n",
    "\n",
    "\n"
   ]
  },
  {
   "cell_type": "markdown",
   "metadata": {},
   "source": [
    "### Visualização e Validação\n",
    "\n",
    "Após a implementação, as corridas simuladas podem ser visualizadas em mapas interativos:\n",
    "\n",
    "- **Mapas com `folium`:** Representam pares de origem e destino.\n",
    "- **Gráficos:** Analisam estatisticamente a distribuição das distâncias e destinos.\n",
    "\n",
    "Além disso, as corridas geradas podem ser exportadas para arquivos `.csv` para uso em modelos de treinamento."
   ]
  },
  {
   "cell_type": "markdown",
   "metadata": {},
   "source": [
    "# Setup\n",
    "\n",
    "## Importar bibliotecas\n",
    "Importamos todas as bibliotecas Python necessárias"
   ]
  },
  {
   "cell_type": "code",
   "execution_count": 21,
   "metadata": {
    "ExecuteTime": {
     "end_time": "2019-06-16T14:44:50.874881Z",
     "start_time": "2019-06-16T14:44:38.616867Z"
    }
   },
   "outputs": [],
   "source": [
    "# Manipulação de dados\n",
    "import pandas as pd\n",
    "import numpy as np\n",
    "import geopandas as gpd\n",
    "\n",
    "# Opções para exibição de dados\n",
    "pd.options.display.max_columns = 50\n",
    "pd.options.display.max_rows = 30\n",
    "\n",
    "# Visualização de dados\n",
    "import matplotlib as plt\n",
    "    "
   ]
  },
  {
   "cell_type": "markdown",
   "metadata": {},
   "source": [
    "\n",
    "# Importação de Dados\n",
    "Importaremos todos os dados necessários para a análise."
   ]
  },
  {
   "cell_type": "code",
   "execution_count": 66,
   "metadata": {},
   "outputs": [],
   "source": [
    "# Carregar os dados do IBGE\n",
    "df_pop = pd.read_csv('data/population_parameters_rates_by_district.csv')\n",
    "df_renda = pd.read_csv('data/renda_media_distrito.csv')\n",
    "\n",
    "# Carregar os dados do geo-dataframe da cidade de São Paulo\n",
    "gdf = gpd.read_file('/home/sasinhe/uber/data/mapas/SaoPaulo_merged/sao_paulo.shp')\n",
    "\n"
   ]
  },
  {
   "cell_type": "markdown",
   "metadata": {},
   "source": [
    "# Processamento de Dados"
   ]
  },
  {
   "cell_type": "markdown",
   "metadata": {},
   "source": [
    "## Tratamento dso arquivos do IBGE\n",
    "\n",
    "O resultado dessa seção deve ser um dataframe `df_prob` com os nomes dos distritos e suas respectivas probabilidades"
   ]
  },
  {
   "cell_type": "code",
   "execution_count": 113,
   "metadata": {},
   "outputs": [
    {
     "data": {
      "text/html": [
       "<div>\n",
       "<style scoped>\n",
       "    .dataframe tbody tr th:only-of-type {\n",
       "        vertical-align: middle;\n",
       "    }\n",
       "\n",
       "    .dataframe tbody tr th {\n",
       "        vertical-align: top;\n",
       "    }\n",
       "\n",
       "    .dataframe thead th {\n",
       "        text-align: right;\n",
       "    }\n",
       "</style>\n",
       "<table border=\"1\" class=\"dataframe\">\n",
       "  <thead>\n",
       "    <tr style=\"text-align: right;\">\n",
       "      <th></th>\n",
       "      <th>Nome_distrito</th>\n",
       "      <th>Probabilidade</th>\n",
       "    </tr>\n",
       "  </thead>\n",
       "  <tbody>\n",
       "    <tr>\n",
       "      <th>0</th>\n",
       "      <td>agua rasa</td>\n",
       "      <td>0.009768</td>\n",
       "    </tr>\n",
       "    <tr>\n",
       "      <th>1</th>\n",
       "      <td>alto de pinheiros</td>\n",
       "      <td>0.014637</td>\n",
       "    </tr>\n",
       "    <tr>\n",
       "      <th>2</th>\n",
       "      <td>anhanguera</td>\n",
       "      <td>0.005868</td>\n",
       "    </tr>\n",
       "    <tr>\n",
       "      <th>3</th>\n",
       "      <td>aricanduva</td>\n",
       "      <td>0.007474</td>\n",
       "    </tr>\n",
       "    <tr>\n",
       "      <th>4</th>\n",
       "      <td>artur alvim</td>\n",
       "      <td>0.007562</td>\n",
       "    </tr>\n",
       "    <tr>\n",
       "      <th>...</th>\n",
       "      <td>...</td>\n",
       "      <td>...</td>\n",
       "    </tr>\n",
       "    <tr>\n",
       "      <th>90</th>\n",
       "      <td>vila medeiros</td>\n",
       "      <td>0.008441</td>\n",
       "    </tr>\n",
       "    <tr>\n",
       "      <th>91</th>\n",
       "      <td>vila prudente</td>\n",
       "      <td>0.009580</td>\n",
       "    </tr>\n",
       "    <tr>\n",
       "      <th>92</th>\n",
       "      <td>vila sonia</td>\n",
       "      <td>0.013279</td>\n",
       "    </tr>\n",
       "    <tr>\n",
       "      <th>93</th>\n",
       "      <td>sao domingos</td>\n",
       "      <td>0.008548</td>\n",
       "    </tr>\n",
       "    <tr>\n",
       "      <th>94</th>\n",
       "      <td>lajeado</td>\n",
       "      <td>0.007359</td>\n",
       "    </tr>\n",
       "  </tbody>\n",
       "</table>\n",
       "<p>95 rows × 2 columns</p>\n",
       "</div>"
      ],
      "text/plain": [
       "        Nome_distrito  Probabilidade\n",
       "0           agua rasa       0.009768\n",
       "1   alto de pinheiros       0.014637\n",
       "2          anhanguera       0.005868\n",
       "3          aricanduva       0.007474\n",
       "4         artur alvim       0.007562\n",
       "..                ...            ...\n",
       "90      vila medeiros       0.008441\n",
       "91      vila prudente       0.009580\n",
       "92         vila sonia       0.013279\n",
       "93       sao domingos       0.008548\n",
       "94            lajeado       0.007359\n",
       "\n",
       "[95 rows x 2 columns]"
      ]
     },
     "execution_count": 113,
     "metadata": {},
     "output_type": "execute_result"
    }
   ],
   "source": [
    "# Remover espaços em branco e converter para minúsculas\n",
    "df_pop['Nome_distrito'] = df_pop['Nome_distrito'].str.strip().str.lower()\n",
    "df_renda['Nome_distrito'] = df_renda['Nome_distrito'].str.strip().str.lower()\n",
    "\n",
    "# Definir intervalos de renda e seus pontos médios\n",
    "income_intervals = {\n",
    "    'Menos de 2 SM': 1,\n",
    "    'De 2 a Menos de 5 SM': 3.5,\n",
    "    'De 5 a Menos de 10 SM': 7.5,\n",
    "    'De 10 a Menos de 15 SM': 12.5,\n",
    "    'De 15 a Menos de 25 SM': 20,\n",
    "    'De 25 SM e Mais ': 30\n",
    "}\n",
    "\n",
    "# Calcular a renda média para cada distrito\n",
    "for col, midpoint in income_intervals.items():\n",
    "    df_renda[col] = df_renda[col]/100 * midpoint\n",
    "\n",
    "\n",
    "df_renda['average_income'] = df_renda[list(income_intervals.keys())].sum(axis=1)\n",
    "\n",
    "# Normalizar a renda média\n",
    "min_income = df_renda['average_income'].min()\n",
    "max_income = df_renda['average_income'].max()\n",
    "df_renda['normalized_income'] = (df_renda['average_income'] - min_income) / (max_income - min_income)\n",
    "\n",
    "# Normalizar a população\n",
    "min_pop = df_pop['Pop_2020'].min()\n",
    "max_pop = df_pop['Pop_2020'].max()\n",
    "df_pop['normalized_pop'] = (df_pop['Pop_2020'] - min_pop) / (max_pop - min_pop)\n",
    "\n",
    "# Mesclar os dois dataframes na coluna 'Nome_distrito'\n",
    "df_prob = pd.merge(df_pop, df_renda, on='Nome_distrito')\n",
    "\n",
    "# Calcular a pontuação composta (média simples das normalizações)\n",
    "df_prob['composite_score'] = (df_prob['normalized_income'] + df_prob['normalized_pop']) / 2\n",
    "\n",
    "# Normalizar a pontuação composta para obter probabilidades\n",
    "total_score = df_prob['composite_score'].sum()\n",
    "df_prob['Probabilidade'] = df_prob['composite_score'] / total_score\n",
    "\n",
    "# Criar um novo dataframe com os resultados para checagem\n",
    "# result = df.copy()\n",
    "\n",
    "# Remover colunas desnecessárias\n",
    "df_prob = df_prob[[\"Nome_distrito\", \"Probabilidade\"]]\n",
    "\n",
    "# Exibir o resultado final com as probabilidades\n",
    "df_prob"
   ]
  },
  {
   "cell_type": "markdown",
   "metadata": {},
   "source": [
    "## Tratamento de arquivos .shp (mapas)\n",
    "\n",
    "O resultado final deve ser um geo-dataframe `df_mapa` com as informações de cada logradouro"
   ]
  },
  {
   "cell_type": "code",
   "execution_count": 115,
   "metadata": {},
   "outputs": [
    {
     "name": "stderr",
     "output_type": "stream",
     "text": [
      "/tmp/ipykernel_10360/3962777102.py:16: FutureWarning: DataFrame.applymap has been deprecated. Use DataFrame.map instead.\n",
      "  gdf = gdf.applymap(lambda s: s.lower() if type(s) == str else s) # Deixa todas as entradas que forem string minusculas\n"
     ]
    }
   ],
   "source": [
    "# Carregar os dados do geo-dataframe da cidade de São Paulo\n",
    "gdf = gpd.read_file('/home/sasinhe/uber/data/mapas/SaoPaulo_merged/sao_paulo.shp')\n",
    "\n",
    "gdf.rename(columns={'ds_nomeds_': 'nome_distrito', 'lg_nome': 'nome_logradouro'}, inplace=True) # Renomear colunas\n",
    "gdf = gdf.loc[gdf['lg_tipo'].isin(['R', 'AV'])] # Filtrar apenas ruas e avenidas\n",
    "gdf['lg_tipo'] = gdf['lg_tipo'].map({'R' : 'Rua', 'AV': 'Avenida'}) # Mapear códigos para nomes\n",
    "gdf['num_ini'] = gdf[['lg_ini_par', 'lg_ini_imp']].min(axis=1) # Definir o número inicial\n",
    "gdf['num_fim'] = gdf[['lg_fim_par', 'lg_fim_imp']].max(axis=1) # Definir o número final\n",
    "gdf = gdf.dropna(subset=['num_fim']) # Remover valores nulos\n",
    "gdf = gdf.dropna(subset=['num_ini']) # Remover valores nulos\t\n",
    "gdf[['num_fim', 'num_ini']] = gdf[['num_fim', 'num_ini']].astype(int) # Converter para inteiros\n",
    "gdf.drop(columns=['lg_ini_par', 'lg_ini_imp', 'lg_fim_par', 'lg_fim_imp', 'lg_codlog', 'lg_or_geom', 'lg_seg_id', 'lg_id', 'lg_ordem'], inplace=True) # Remover colunas desnecessárias\n",
    "\n",
    "gdf['logradouro'] = gdf['lg_tipo'] + ' ' + gdf['lg_titulo'].fillna('') + ' ' + gdf['lg_prep'].fillna('') + ' ' + gdf['nome_logradouro']\n",
    "\n",
    "gdf = gdf.applymap(lambda s: s.lower() if type(s) == str else s) # Deixa todas as entradas que forem string minusculas"
   ]
  },
  {
   "cell_type": "markdown",
   "metadata": {},
   "source": [
    "# Criação do Algoritmo\n"
   ]
  },
  {
   "cell_type": "markdown",
   "metadata": {},
   "source": [
    "## Endereço de Origem"
   ]
  },
  {
   "cell_type": "code",
   "execution_count": 107,
   "metadata": {},
   "outputs": [],
   "source": [
    "def selecionar_distrito_de_origem(prob_distrito_de_origem=df_prob, geodataframe=gdf):\n",
    "    distritos = prob_distrito_de_origem['Nome_distrito']\n",
    "    probabilidades = prob_distrito_de_origem['Probabilidade']\n",
    "    distrito_amostrado = np.random.choice(distritos, p=probabilidades)\n",
    "    # print(f\"Distrito amostrado: {distrito_amostrado}\")\n",
    "    df_ruas = geodataframe[geodataframe['nome_distrito'] == distrito_amostrado]\n",
    "    return df_ruas"
   ]
  },
  {
   "cell_type": "code",
   "execution_count": 123,
   "metadata": {},
   "outputs": [],
   "source": [
    "def selecionar_endereço_de_origem():\n",
    "    df_ruas = selecionar_distrito_de_origem()\n",
    "    rua_amostrada = df_ruas.sample()\n",
    "    numero_amostrado = np.random.randint(rua_amostrada['num_ini'].values[0], rua_amostrada['num_fim'].values[0])\n",
    "    print(f\"Rua amostrada: {rua_amostrada['logradouro'].values[0]}\")\n",
    "    return str(rua_amostrada['logradouro'].values[0]) + ', ' + str(numero_amostrado) + ', São Paulo SP'"
   ]
  },
  {
   "cell_type": "code",
   "execution_count": 124,
   "metadata": {},
   "outputs": [
    {
     "name": "stdout",
     "output_type": "stream",
     "text": [
      "Distrito amostrado: cidade lider\n",
      "Rua amostrada: rua   rafael da silva e sousa\n"
     ]
    },
    {
     "data": {
      "text/plain": [
       "'rua   rafael da silva e sousa, 462, São Paulo SP'"
      ]
     },
     "execution_count": 124,
     "metadata": {},
     "output_type": "execute_result"
    }
   ],
   "source": [
    "selecionar_endereço_de_origem()"
   ]
  },
  {
   "cell_type": "markdown",
   "metadata": {},
   "source": [
    "## Endereço de Destino"
   ]
  },
  {
   "cell_type": "markdown",
   "metadata": {},
   "source": [
    "#### Cálculo da Variável Aleatória $r$\n",
    "O raio $r$ da distância máxima do endereço de chegada é calculado a partir da distribuição gaussiana:\n",
    "\n",
    "\n",
    "$$\n",
    "P(r) = \\frac{1}{\\sqrt{2\\pi}\\sigma} e^{-\\frac{r^2}{2\\sigma^2}}\n",
    "$$"
   ]
  },
  {
   "cell_type": "code",
   "execution_count": null,
   "metadata": {},
   "outputs": [],
   "source": [
    "\n",
    "def selecionar_endereço_de_destino():"
   ]
  },
  {
   "cell_type": "markdown",
   "metadata": {},
   "source": [
    "# References\n",
    "We report here relevant references:\n",
    "1. author1, article1, journal1, year1, url1\n",
    "2. author2, article2, journal2, year2, url2"
   ]
  },
  {
   "cell_type": "code",
   "execution_count": 110,
   "metadata": {},
   "outputs": [
    {
     "name": "stdout",
     "output_type": "stream",
     "text": [
      "Distrito amostrado: jabaquara\n"
     ]
    },
    {
     "data": {
      "text/html": [
       "<div>\n",
       "<style scoped>\n",
       "    .dataframe tbody tr th:only-of-type {\n",
       "        vertical-align: middle;\n",
       "    }\n",
       "\n",
       "    .dataframe tbody tr th {\n",
       "        vertical-align: top;\n",
       "    }\n",
       "\n",
       "    .dataframe thead th {\n",
       "        text-align: right;\n",
       "    }\n",
       "</style>\n",
       "<table border=\"1\" class=\"dataframe\">\n",
       "  <thead>\n",
       "    <tr style=\"text-align: right;\">\n",
       "      <th></th>\n",
       "      <th>lg_tipo</th>\n",
       "      <th>lg_titulo</th>\n",
       "      <th>lg_prep</th>\n",
       "      <th>nome_logradouro</th>\n",
       "      <th>nome_distrito</th>\n",
       "      <th>geometry</th>\n",
       "      <th>num_ini</th>\n",
       "      <th>num_fim</th>\n",
       "      <th>logradouro</th>\n",
       "    </tr>\n",
       "  </thead>\n",
       "  <tbody>\n",
       "    <tr>\n",
       "      <th>51636</th>\n",
       "      <td>avenida</td>\n",
       "      <td>None</td>\n",
       "      <td>None</td>\n",
       "      <td>durval pinto ferreira</td>\n",
       "      <td>jabaquara</td>\n",
       "      <td>LINESTRING (330936.52 7382264.369, 330948.205 ...</td>\n",
       "      <td>858</td>\n",
       "      <td>1001</td>\n",
       "      <td>avenida   durval pinto ferreira</td>\n",
       "    </tr>\n",
       "    <tr>\n",
       "      <th>51637</th>\n",
       "      <td>avenida</td>\n",
       "      <td>eng</td>\n",
       "      <td>None</td>\n",
       "      <td>armando de arruda pereira</td>\n",
       "      <td>jabaquara</td>\n",
       "      <td>LINESTRING (333096.272 7381662.245, 333099.326...</td>\n",
       "      <td>4888</td>\n",
       "      <td>4922</td>\n",
       "      <td>avenida eng  armando de arruda pereira</td>\n",
       "    </tr>\n",
       "    <tr>\n",
       "      <th>51638</th>\n",
       "      <td>rua</td>\n",
       "      <td>jorn</td>\n",
       "      <td>None</td>\n",
       "      <td>claudio abramo</td>\n",
       "      <td>jabaquara</td>\n",
       "      <td>LINESTRING (333185.761 7385747.942, 333186.815...</td>\n",
       "      <td>0</td>\n",
       "      <td>67</td>\n",
       "      <td>rua jorn  claudio abramo</td>\n",
       "    </tr>\n",
       "    <tr>\n",
       "      <th>51639</th>\n",
       "      <td>rua</td>\n",
       "      <td>None</td>\n",
       "      <td>None</td>\n",
       "      <td>delmira agustini</td>\n",
       "      <td>jabaquara</td>\n",
       "      <td>LINESTRING (333316.793 7381993.515, 333317.257...</td>\n",
       "      <td>284</td>\n",
       "      <td>363</td>\n",
       "      <td>rua   delmira agustini</td>\n",
       "    </tr>\n",
       "    <tr>\n",
       "      <th>51640</th>\n",
       "      <td>rua</td>\n",
       "      <td>cons</td>\n",
       "      <td>None</td>\n",
       "      <td>elias de carvalho</td>\n",
       "      <td>jabaquara</td>\n",
       "      <td>LINESTRING (331042.909 7383471.996, 331069.396...</td>\n",
       "      <td>698</td>\n",
       "      <td>765</td>\n",
       "      <td>rua cons  elias de carvalho</td>\n",
       "    </tr>\n",
       "    <tr>\n",
       "      <th>...</th>\n",
       "      <td>...</td>\n",
       "      <td>...</td>\n",
       "      <td>...</td>\n",
       "      <td>...</td>\n",
       "      <td>...</td>\n",
       "      <td>...</td>\n",
       "      <td>...</td>\n",
       "      <td>...</td>\n",
       "      <td>...</td>\n",
       "    </tr>\n",
       "    <tr>\n",
       "      <th>55296</th>\n",
       "      <td>rua</td>\n",
       "      <td>dr</td>\n",
       "      <td>None</td>\n",
       "      <td>vitor eugenio do sacramento</td>\n",
       "      <td>jabaquara</td>\n",
       "      <td>LINESTRING (331898.502 7383978.964, 331904.694...</td>\n",
       "      <td>0</td>\n",
       "      <td>87</td>\n",
       "      <td>rua dr  vitor eugenio do sacramento</td>\n",
       "    </tr>\n",
       "    <tr>\n",
       "      <th>55297</th>\n",
       "      <td>rua</td>\n",
       "      <td>dr</td>\n",
       "      <td>None</td>\n",
       "      <td>vitor eugenio do sacramento</td>\n",
       "      <td>jabaquara</td>\n",
       "      <td>LINESTRING (331704.981 7383941.363, 331716.031...</td>\n",
       "      <td>250</td>\n",
       "      <td>271</td>\n",
       "      <td>rua dr  vitor eugenio do sacramento</td>\n",
       "    </tr>\n",
       "    <tr>\n",
       "      <th>55298</th>\n",
       "      <td>rua</td>\n",
       "      <td>dr</td>\n",
       "      <td>None</td>\n",
       "      <td>vitor eugenio do sacramento</td>\n",
       "      <td>jabaquara</td>\n",
       "      <td>LINESTRING (331642.298 7383896.22, 331648.731 ...</td>\n",
       "      <td>270</td>\n",
       "      <td>333</td>\n",
       "      <td>rua dr  vitor eugenio do sacramento</td>\n",
       "    </tr>\n",
       "    <tr>\n",
       "      <th>55299</th>\n",
       "      <td>rua</td>\n",
       "      <td>None</td>\n",
       "      <td>None</td>\n",
       "      <td>edgar amorim amaral</td>\n",
       "      <td>jabaquara</td>\n",
       "      <td>LINESTRING (331735.787 7383944.718, 331749.98 ...</td>\n",
       "      <td>0</td>\n",
       "      <td>181</td>\n",
       "      <td>rua   edgar amorim amaral</td>\n",
       "    </tr>\n",
       "    <tr>\n",
       "      <th>55308</th>\n",
       "      <td>rua</td>\n",
       "      <td>None</td>\n",
       "      <td>None</td>\n",
       "      <td>waldo rolim de moraes</td>\n",
       "      <td>jabaquara</td>\n",
       "      <td>LINESTRING (332621.287 7381751.717, 332672.638...</td>\n",
       "      <td>0</td>\n",
       "      <td>77</td>\n",
       "      <td>rua   waldo rolim de moraes</td>\n",
       "    </tr>\n",
       "  </tbody>\n",
       "</table>\n",
       "<p>2936 rows × 9 columns</p>\n",
       "</div>"
      ],
      "text/plain": [
       "       lg_tipo lg_titulo lg_prep              nome_logradouro nome_distrito  \\\n",
       "51636  avenida      None    None        durval pinto ferreira     jabaquara   \n",
       "51637  avenida       eng    None    armando de arruda pereira     jabaquara   \n",
       "51638      rua      jorn    None               claudio abramo     jabaquara   \n",
       "51639      rua      None    None             delmira agustini     jabaquara   \n",
       "51640      rua      cons    None            elias de carvalho     jabaquara   \n",
       "...        ...       ...     ...                          ...           ...   \n",
       "55296      rua        dr    None  vitor eugenio do sacramento     jabaquara   \n",
       "55297      rua        dr    None  vitor eugenio do sacramento     jabaquara   \n",
       "55298      rua        dr    None  vitor eugenio do sacramento     jabaquara   \n",
       "55299      rua      None    None          edgar amorim amaral     jabaquara   \n",
       "55308      rua      None    None        waldo rolim de moraes     jabaquara   \n",
       "\n",
       "                                                geometry  num_ini  num_fim  \\\n",
       "51636  LINESTRING (330936.52 7382264.369, 330948.205 ...      858     1001   \n",
       "51637  LINESTRING (333096.272 7381662.245, 333099.326...     4888     4922   \n",
       "51638  LINESTRING (333185.761 7385747.942, 333186.815...        0       67   \n",
       "51639  LINESTRING (333316.793 7381993.515, 333317.257...      284      363   \n",
       "51640  LINESTRING (331042.909 7383471.996, 331069.396...      698      765   \n",
       "...                                                  ...      ...      ...   \n",
       "55296  LINESTRING (331898.502 7383978.964, 331904.694...        0       87   \n",
       "55297  LINESTRING (331704.981 7383941.363, 331716.031...      250      271   \n",
       "55298  LINESTRING (331642.298 7383896.22, 331648.731 ...      270      333   \n",
       "55299  LINESTRING (331735.787 7383944.718, 331749.98 ...        0      181   \n",
       "55308  LINESTRING (332621.287 7381751.717, 332672.638...        0       77   \n",
       "\n",
       "                                   logradouro  \n",
       "51636         avenida   durval pinto ferreira  \n",
       "51637  avenida eng  armando de arruda pereira  \n",
       "51638                rua jorn  claudio abramo  \n",
       "51639                  rua   delmira agustini  \n",
       "51640             rua cons  elias de carvalho  \n",
       "...                                       ...  \n",
       "55296     rua dr  vitor eugenio do sacramento  \n",
       "55297     rua dr  vitor eugenio do sacramento  \n",
       "55298     rua dr  vitor eugenio do sacramento  \n",
       "55299               rua   edgar amorim amaral  \n",
       "55308             rua   waldo rolim de moraes  \n",
       "\n",
       "[2936 rows x 9 columns]"
      ]
     },
     "execution_count": 110,
     "metadata": {},
     "output_type": "execute_result"
    }
   ],
   "source": [
    "df_ruas = selecionar_distrito_de_origem()\n",
    "df_ruas"
   ]
  },
  {
   "cell_type": "code",
   "execution_count": null,
   "metadata": {},
   "outputs": [],
   "source": []
  }
 ],
 "metadata": {
  "kernelspec": {
   "display_name": ".venv",
   "language": "python",
   "name": "python3"
  },
  "language_info": {
   "codemirror_mode": {
    "name": "ipython",
    "version": 3
   },
   "file_extension": ".py",
   "mimetype": "text/x-python",
   "name": "python",
   "nbconvert_exporter": "python",
   "pygments_lexer": "ipython3",
   "version": "3.12.3"
  },
  "pycharm": {
   "stem_cell": {
    "cell_type": "raw",
    "metadata": {
     "collapsed": false
    },
    "source": []
   }
  },
  "toc": {
   "base_numbering": 1,
   "nav_menu": {},
   "number_sections": true,
   "sideBar": true,
   "skip_h1_title": false,
   "title_cell": "Table of Contents",
   "title_sidebar": "Contents",
   "toc_cell": false,
   "toc_position": {},
   "toc_section_display": true,
   "toc_window_display": false
  },
  "varInspector": {
   "cols": {
    "lenName": 16,
    "lenType": 16,
    "lenVar": 40
   },
   "kernels_config": {
    "python": {
     "delete_cmd_postfix": "",
     "delete_cmd_prefix": "del ",
     "library": "var_list.py",
     "varRefreshCmd": "print(var_dic_list())"
    },
    "r": {
     "delete_cmd_postfix": ") ",
     "delete_cmd_prefix": "rm(",
     "library": "var_list.r",
     "varRefreshCmd": "cat(var_dic_list()) "
    }
   },
   "types_to_exclude": [
    "module",
    "function",
    "builtin_function_or_method",
    "instance",
    "_Feature"
   ],
   "window_display": false
  }
 },
 "nbformat": 4,
 "nbformat_minor": 2
}
