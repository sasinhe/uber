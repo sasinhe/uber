{
 "cells": [
  {
   "cell_type": "code",
   "execution_count": 2,
   "metadata": {},
   "outputs": [],
   "source": [
    "# Importar bibliotecas\n",
    "import numpy as np\n",
    "import pandas as pd\n",
    "import geopandas as gpd\n"
   ]
  },
  {
   "cell_type": "markdown",
   "metadata": {},
   "source": [
    "# Introdução"
   ]
  },
  {
   "cell_type": "markdown",
   "metadata": {},
   "source": [
    "## Introdução ao Problema\n",
    "O objetivo deste algoritmo é gerar um conjunto de pares de endereços na cidade de São Paulo para o treinamento de um modelo de precificação de corridas de Uber.\n",
    "\n",
    "O algoritmo terá natureza estocástica, dando preferência para endereços de chegada em distritos com maior densidade populacional e renda média por habitante (fatores relevantes para o uso do aplicativo Uber).\n",
    "\n",
    "Para os endereços de saída, o algoritmo usará uma função de decaimento exponencial $P(d)$ (descrita abaixo) para gerar uma distância máxima para o endereço do destino, onde escolherá o endereço de destino uniformemente dentro desse intervalo.\n",
    "\n",
    "Usaremos o conjunto de dados geográficos (disponível como um arquivo `.shape` com um grafo representando as ruas de São Paulo) distribuído pela plataforma [GeoSampa](https://geosampa.prefeitura.sp.gov.br) da Prefeitura de São Paulo para acessar os endereços disponíveis dentro da distância $d$ da origem."
   ]
  },
  {
   "cell_type": "markdown",
   "metadata": {},
   "source": [
    "### Implementação em Código Python\n",
    "\n",
    "A implementação segue as etapas principais descritas abaixo:\n",
    "\n",
    "1. __Carregamento e Preparação dos Dados:__\n",
    "\n",
    "   - Utilize bibliotecas como `geopandas` para manipular arquivos `.shapefile`.\n",
    "   - Construa o grafo das ruas de São Paulo com `networkx`.\n",
    "2. __Cálculo das Probabilidades de Escolha:__\n",
    "\n",
    "   - Importe os dados do IBGE utilizando `pandas`.\n",
    "   - Calcule e normalize as probabilidades com base na população e renda dos distritos.\n",
    "3. __Seleção do Endereço de Origem:__\n",
    "\n",
    "   - Escolha aleatória de uma rua com `numpy.random.choice`.\n",
    "   - Geração de um número dentro do intervalo válido.\n",
    "4. __Seleção do Endereço de Destino:__\n",
    "\n",
    "   - Use $P(d)$ para calcular o raio máximo:\n",
    "\n",
    "     $$\n",
    "     P(d) = \\frac{1}{\\sqrt{2\\pi}\\sigma} e^{-\\frac{d^2}{2\\sigma^2}}\n",
    "     $$\n",
    "   - Escolha uniformemente dentro do raio usando coordenadas do grafo.\n",
    "5. **Visualização dos Resultados:**\n",
    "\n",
    "   - Use `matplotlib` ou `folium` para criar mapas interativos.\n",
    "\n",
    "\n",
    "\n"
   ]
  },
  {
   "cell_type": "markdown",
   "metadata": {},
   "source": [
    "### Visualização e Validação\n",
    "\n",
    "Após a implementação, as corridas simuladas podem ser visualizadas em mapas interativos:\n",
    "\n",
    "- **Mapas com `folium`:** Representam pares de origem e destino.\n",
    "- **Gráficos:** Analisam estatisticamente a distribuição das distâncias e destinos.\n",
    "\n",
    "Além disso, as corridas geradas podem ser exportadas para arquivos `.csv` para uso em modelos de treinamento."
   ]
  },
  {
   "cell_type": "markdown",
   "metadata": {},
   "source": [
    "## Preparação dos Dados"
   ]
  },
  {
   "cell_type": "markdown",
   "metadata": {},
   "source": [
    "# Escolha do Endereço de Chegada"
   ]
  },
  {
   "cell_type": "markdown",
   "metadata": {},
   "source": [
    "## Cálculo Das Probabilidades de Escolha de Cada Distrito\n",
    "\n",
    "Queremos selecionar os distritos oficiais de São Paulo e calcular a probabilidade de escolha de cada um deles. Utilizamos a base de dados do IBGE, que contém a população e a renda média de cada distrito. O cálculo da probabilidade de escolha segue a fórmula:\n",
    "\n",
    "$$\n",
    "\\text{Probabilidade(distrito)} = \\frac{\\text{População(distrito)} \\cdot \\text{RendaMédia(distrito)}}{\\sum_{distritos} (\\text{População} \\cdot \\text{RendaMédia})}\n",
    "$$\n",
    "\n",
    "Essa probabilidade será utilizada para realizar a amostragem ponderada entre os distritos."
   ]
  },
  {
   "cell_type": "code",
   "execution_count": 3,
   "metadata": {},
   "outputs": [
    {
     "name": "stdout",
     "output_type": "stream",
     "text": [
      "0\n",
      "0\n",
      "       Nome_distrito  average_income  Pop_2020  normalized_income  \\\n",
      "0          agua rasa         12.9614     80618           0.474289   \n",
      "1  alto de pinheiros         21.5901     40117           0.920206   \n",
      "2         anhanguera          6.3032    108277           0.130204   \n",
      "3         aricanduva          9.8699     81265           0.314525   \n",
      "4        artur alvim          9.2310     95587           0.281508   \n",
      "\n",
      "   normalized_pop  composite_score  probability  \n",
      "0        0.198620         0.336454     0.009768  \n",
      "1        0.088173         0.504189     0.014637  \n",
      "2        0.274047         0.202125     0.005868  \n",
      "3        0.200385         0.257455     0.007474  \n",
      "4        0.239441         0.260474     0.007562  \n"
     ]
    }
   ],
   "source": [
    "# Carregar os dados\n",
    "df = pd.read_csv('data/population_parameters_rates_by_district.csv')\n",
    "df = df[['Cod_distrito', 'Nome_distrito', 'Pop_2010', 'Pop_2020', 'Pop/ha_2010']]\n",
    "df_renda = pd.read_csv('data/renda_media_distrito.csv')\n",
    "\n",
    "# Remover espaços em branco e converter para minúsculas\n",
    "df['Nome_distrito'] = df['Nome_distrito'].str.strip().str.lower()\n",
    "df_renda['Nome_distrito'] = df_renda['Nome_distrito'].str.strip().str.lower()\n",
    "\n",
    "# Verificar valores ausentes\n",
    "print(df['Nome_distrito'].isnull().sum())\n",
    "print(df_renda['Nome_distrito'].isnull().sum())\n",
    "\n",
    "# Definir intervalos de renda e seus pontos médios\n",
    "income_intervals = {\n",
    "    'Menos de 2 SM': 1,\n",
    "    'De 2 a Menos de 5 SM': 3.5,\n",
    "    'De 5 a Menos de 10 SM': 7.5,\n",
    "    'De 10 a Menos de 15 SM': 12.5,\n",
    "    'De 15 a Menos de 25 SM': 20,\n",
    "    'De 25 SM e Mais ': 30\n",
    "}\n",
    "\n",
    "# Calcular a renda média para cada distrito\n",
    "for col, midpoint in income_intervals.items():\n",
    "    df_renda[col] = df_renda[col]/100 * midpoint\n",
    "\n",
    "df_renda['average_income'] = df_renda[list(income_intervals.keys())].sum(axis=1)\n",
    "\n",
    "# Normalizar a renda média\n",
    "min_income = df_renda['average_income'].min()\n",
    "max_income = df_renda['average_income'].max()\n",
    "df_renda['normalized_income'] = (df_renda['average_income'] - min_income) / (max_income - min_income)\n",
    "\n",
    "# Normalizar a população\n",
    "min_pop = df['Pop_2020'].min()\n",
    "max_pop = df['Pop_2020'].max()\n",
    "df['normalized_pop'] = (df['Pop_2020'] - min_pop) / (max_pop - min_pop)\n",
    "\n",
    "# Mesclar os dois dataframes na coluna 'Nome_distrito'\n",
    "result = pd.merge(df, df_renda, on='Nome_distrito')\n",
    "\n",
    "# Calcular a pontuação composta (média simples das normalizações)\n",
    "result['composite_score'] = (result['normalized_income'] + result['normalized_pop']) / 2\n",
    "\n",
    "# Normalizar a pontuação composta para obter probabilidades\n",
    "total_score = result['composite_score'].sum()\n",
    "result['probability'] = result['composite_score'] / total_score\n",
    "\n",
    "# Exibir o resultado final com as probabilidades\n",
    "print(result[['Nome_distrito', 'average_income', 'Pop_2020', 'normalized_income', 'normalized_pop', 'composite_score', 'probability']].head())"
   ]
  },
  {
   "cell_type": "code",
   "execution_count": 4,
   "metadata": {},
   "outputs": [
    {
     "name": "stderr",
     "output_type": "stream",
     "text": [
      "/tmp/ipykernel_13697/211545537.py:2: SettingWithCopyWarning: \n",
      "A value is trying to be set on a copy of a slice from a DataFrame.\n",
      "Try using .loc[row_indexer,col_indexer] = value instead\n",
      "\n",
      "See the caveats in the documentation: https://pandas.pydata.org/pandas-docs/stable/user_guide/indexing.html#returning-a-view-versus-a-copy\n",
      "  prob_distrito_de_origem['Pop/ha_2010_normalized'] = prob_distrito_de_origem['Pop/ha_2010'] / prob_distrito_de_origem['Pop/ha_2010'].sum()\n",
      "/tmp/ipykernel_13697/211545537.py:3: SettingWithCopyWarning: \n",
      "A value is trying to be set on a copy of a slice from a DataFrame.\n",
      "Try using .loc[row_indexer,col_indexer] = value instead\n",
      "\n",
      "See the caveats in the documentation: https://pandas.pydata.org/pandas-docs/stable/user_guide/indexing.html#returning-a-view-versus-a-copy\n",
      "  prob_distrito_de_origem['average_income_normalized'] = prob_distrito_de_origem['average_income'] / prob_distrito_de_origem['average_income'].sum()\n",
      "/tmp/ipykernel_13697/211545537.py:4: SettingWithCopyWarning: \n",
      "A value is trying to be set on a copy of a slice from a DataFrame.\n",
      "Try using .loc[row_indexer,col_indexer] = value instead\n",
      "\n",
      "See the caveats in the documentation: https://pandas.pydata.org/pandas-docs/stable/user_guide/indexing.html#returning-a-view-versus-a-copy\n",
      "  prob_distrito_de_origem['probability'] = (prob_distrito_de_origem['Pop/ha_2010_normalized'] + prob_distrito_de_origem['average_income_normalized']) / 2\n"
     ]
    }
   ],
   "source": [
    "prob_distrito_de_origem = result[['Nome_distrito','Pop/ha_2010', 'average_income']]\n",
    "prob_distrito_de_origem['Pop/ha_2010_normalized'] = prob_distrito_de_origem['Pop/ha_2010'] / prob_distrito_de_origem['Pop/ha_2010'].sum()\n",
    "prob_distrito_de_origem['average_income_normalized'] = prob_distrito_de_origem['average_income'] / prob_distrito_de_origem['average_income'].sum()\n",
    "prob_distrito_de_origem['probability'] = (prob_distrito_de_origem['Pop/ha_2010_normalized'] + prob_distrito_de_origem['average_income_normalized']) / 2\n"
   ]
  },
  {
   "cell_type": "code",
   "execution_count": 5,
   "metadata": {},
   "outputs": [
    {
     "data": {
      "text/html": [
       "<div>\n",
       "<style scoped>\n",
       "    .dataframe tbody tr th:only-of-type {\n",
       "        vertical-align: middle;\n",
       "    }\n",
       "\n",
       "    .dataframe tbody tr th {\n",
       "        vertical-align: top;\n",
       "    }\n",
       "\n",
       "    .dataframe thead th {\n",
       "        text-align: right;\n",
       "    }\n",
       "</style>\n",
       "<table border=\"1\" class=\"dataframe\">\n",
       "  <thead>\n",
       "    <tr style=\"text-align: right;\">\n",
       "      <th></th>\n",
       "      <th>Nome_distrito</th>\n",
       "      <th>probability</th>\n",
       "    </tr>\n",
       "  </thead>\n",
       "  <tbody>\n",
       "    <tr>\n",
       "      <th>0</th>\n",
       "      <td>agua rasa</td>\n",
       "      <td>0.011681</td>\n",
       "    </tr>\n",
       "    <tr>\n",
       "      <th>1</th>\n",
       "      <td>alto de pinheiros</td>\n",
       "      <td>0.012339</td>\n",
       "    </tr>\n",
       "    <tr>\n",
       "      <th>2</th>\n",
       "      <td>anhanguera</td>\n",
       "      <td>0.003766</td>\n",
       "    </tr>\n",
       "    <tr>\n",
       "      <th>3</th>\n",
       "      <td>aricanduva</td>\n",
       "      <td>0.010901</td>\n",
       "    </tr>\n",
       "    <tr>\n",
       "      <th>4</th>\n",
       "      <td>artur alvim</td>\n",
       "      <td>0.011747</td>\n",
       "    </tr>\n",
       "    <tr>\n",
       "      <th>...</th>\n",
       "      <td>...</td>\n",
       "      <td>...</td>\n",
       "    </tr>\n",
       "    <tr>\n",
       "      <th>90</th>\n",
       "      <td>vila medeiros</td>\n",
       "      <td>0.012249</td>\n",
       "    </tr>\n",
       "    <tr>\n",
       "      <th>91</th>\n",
       "      <td>vila prudente</td>\n",
       "      <td>0.010210</td>\n",
       "    </tr>\n",
       "    <tr>\n",
       "      <th>92</th>\n",
       "      <td>vila sonia</td>\n",
       "      <td>0.011983</td>\n",
       "    </tr>\n",
       "    <tr>\n",
       "      <th>93</th>\n",
       "      <td>sao domingos</td>\n",
       "      <td>0.009060</td>\n",
       "    </tr>\n",
       "    <tr>\n",
       "      <th>94</th>\n",
       "      <td>lajeado</td>\n",
       "      <td>0.010919</td>\n",
       "    </tr>\n",
       "  </tbody>\n",
       "</table>\n",
       "<p>95 rows × 2 columns</p>\n",
       "</div>"
      ],
      "text/plain": [
       "        Nome_distrito  probability\n",
       "0           agua rasa     0.011681\n",
       "1   alto de pinheiros     0.012339\n",
       "2          anhanguera     0.003766\n",
       "3          aricanduva     0.010901\n",
       "4         artur alvim     0.011747\n",
       "..                ...          ...\n",
       "90      vila medeiros     0.012249\n",
       "91      vila prudente     0.010210\n",
       "92         vila sonia     0.011983\n",
       "93       sao domingos     0.009060\n",
       "94            lajeado     0.010919\n",
       "\n",
       "[95 rows x 2 columns]"
      ]
     },
     "execution_count": 5,
     "metadata": {},
     "output_type": "execute_result"
    }
   ],
   "source": [
    "prob_distrito_de_origem = prob_distrito_de_origem[['Nome_distrito', 'probability']] # Retirando colunas auxiliares do cálculo da probabilidade\n",
    "prob_distrito_de_origem"
   ]
  },
  {
   "cell_type": "code",
   "execution_count": 7,
   "metadata": {},
   "outputs": [],
   "source": [
    "# 1. Introdução\n",
    "# Inicialização do Geo-dataframe da cidade de São Paulo\n",
    "\n",
    "\n",
    "gdf = gpd.read_file('data/mapas/SAD69-96_SHP/SAD69-96_SHP_logradouronbl_line.shp')\n",
    "gdf = gdf[gdf['lg_tipo'].isin(['R', 'AV'])] # Selecionar apenas ruas e avenidas\n",
    "# gdf = gdf[['lg_nome', '']]\n"
   ]
  },
  {
   "cell_type": "code",
   "execution_count": 8,
   "metadata": {},
   "outputs": [],
   "source": [
    "def selecionar_endereço_de_origem(prob_distrito_de_origem, geodataframe=gdf):\n",
    "    distritos = prob_distrito_de_origem['Nome_distrito']\n",
    "    probabilidades = prob_distrito_de_origem['probability']\n",
    "    distrito_amostrado = np.random.choice(distritos, p=probabilidades)\n",
    "    print(f\"Distrito amostrado: {distrito_amostrado}\")\n",
    "    df_ruas = geodataframe[geodataframe['distrito'] == distrito_amostrado]"
   ]
  },
  {
   "cell_type": "code",
   "execution_count": 12,
   "metadata": {},
   "outputs": [
    {
     "data": {
      "text/plain": [
       "<bound method NDFrame.head of       CD_MUN            NM_MUN  CD_RGI                 NM_RGI CD_RGINT  \\\n",
       "0    3500105        Adamantina  350019   Adamantina - Lucélia     3505   \n",
       "1    3500204            Adolfo  350025  São José do Rio Preto     3507   \n",
       "2    3500303             Aguaí  350044  São João da Boa Vista     3510   \n",
       "3    3500402    Águas da Prata  350044  São João da Boa Vista     3510   \n",
       "4    3500501  Águas de Lindóia  350048                 Amparo     3510   \n",
       "..       ...               ...     ...                    ...      ...   \n",
       "640  3557006        Votorantim  350003               Sorocaba     3502   \n",
       "641  3557105       Votuporanga  350027            Votuporanga     3507   \n",
       "642  3557154          Zacarias  350023    Birigui - Penápolis     3506   \n",
       "643  3557204         Chavantes  350015               Ourinhos     3504   \n",
       "644  3557303      Estiva Gerbi  350043             Mogi Guaçu     3510   \n",
       "\n",
       "                  NM_RGINT CD_UF      NM_UF CD_REGIAO NM_REGIAO CD_CONCURB  \\\n",
       "0      Presidente Prudente    35  São Paulo         3   Sudeste       None   \n",
       "1    São José do Rio Preto    35  São Paulo         3   Sudeste       None   \n",
       "2                 Campinas    35  São Paulo         3   Sudeste       None   \n",
       "3                 Campinas    35  São Paulo         3   Sudeste       None   \n",
       "4                 Campinas    35  São Paulo         3   Sudeste       None   \n",
       "..                     ...   ...        ...       ...       ...        ...   \n",
       "640               Sorocaba    35  São Paulo         3   Sudeste    3552205   \n",
       "641  São José do Rio Preto    35  São Paulo         3   Sudeste       None   \n",
       "642              Araçatuba    35  São Paulo         3   Sudeste       None   \n",
       "643                Marília    35  São Paulo         3   Sudeste       None   \n",
       "644               Campinas    35  São Paulo         3   Sudeste    3530706   \n",
       "\n",
       "                     NM_CONCURB  AREA_KM2  \\\n",
       "0                          None   411.987   \n",
       "1                          None   211.055   \n",
       "2                          None   474.554   \n",
       "3                          None   142.673   \n",
       "4                          None    60.126   \n",
       "..                          ...       ...   \n",
       "640                 Sorocaba/SP   184.186   \n",
       "641                        None   420.703   \n",
       "642                        None   319.056   \n",
       "643                        None   188.727   \n",
       "644  Mogi Guaçu - Mogi Mirim/SP    74.144   \n",
       "\n",
       "                                              geometry  \n",
       "0    POLYGON ((-51.05218 -21.7097, -51.05232 -21.70...  \n",
       "1    POLYGON ((-49.61249 -21.2611, -49.61249 -21.26...  \n",
       "2    POLYGON ((-47.01254 -22.00527, -47.01219 -22.0...  \n",
       "3    POLYGON ((-46.71875 -21.95837, -46.71878 -21.9...  \n",
       "4    POLYGON ((-46.61761 -22.51172, -46.61864 -22.5...  \n",
       "..                                                 ...  \n",
       "640  POLYGON ((-47.43843 -23.52501, -47.43814 -23.5...  \n",
       "641  POLYGON ((-49.9832 -20.57103, -49.98408 -20.57...  \n",
       "642  POLYGON ((-49.98507 -21.05306, -49.98518 -21.0...  \n",
       "643  POLYGON ((-49.72713 -23.10799, -49.72833 -23.1...  \n",
       "644  POLYGON ((-46.96444 -22.29548, -46.9661 -22.29...  \n",
       "\n",
       "[645 rows x 14 columns]>"
      ]
     },
     "execution_count": 12,
     "metadata": {},
     "output_type": "execute_result"
    }
   ],
   "source": [
    "gpd.read_file('data/ibge/SP_Municipios_2023.shp').head"
   ]
  },
  {
   "cell_type": "code",
   "execution_count": null,
   "metadata": {},
   "outputs": [],
   "source": []
  }
 ],
 "metadata": {
  "kernelspec": {
   "display_name": "uber-YwpBdQmV-py3.12",
   "language": "python",
   "name": "python3"
  },
  "language_info": {
   "codemirror_mode": {
    "name": "ipython",
    "version": 3
   },
   "file_extension": ".py",
   "mimetype": "text/x-python",
   "name": "python",
   "nbconvert_exporter": "python",
   "pygments_lexer": "ipython3",
   "version": "3.12.1"
  }
 },
 "nbformat": 4,
 "nbformat_minor": 2
}
