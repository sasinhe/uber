{
 "cells": [
  {
   "cell_type": "markdown",
   "metadata": {},
   "source": [
    "# Algoritmo de Seleção de Endereços - Projeto Uber\n",
    "\n",
    "\n",
    "## Objetivo\n",
    "O objetivo deste algoritmo é gerar um conjunto de pares de endereços na cidade de São Paulo para o treinamento de um modelo de precificação de corridas de Uber.\n",
    "\n",
    "## Metodologia\n",
    "O algoritmo terá natureza estocástica, dando preferência para endereços de chegada em distritos com maior densidade populacional e renda média por habitante (fatores relevantes para o uso do aplicativo Uber).\n",
    "\n",
    "Para os endereços de saída, o algoritmo usará uma função de decaimento exponencial $P(d)$ (descrita abaixo) para gerar uma distância máxima para o endereço do destino, onde escolherá o endereço de destino uniformemente dentro desse intervalo.\n",
    "\n",
    "\n",
    "Usaremos o conjunto de dados geográficos (disponível como um arquivo `.shape` com um grafo representando as ruas de São Paulo) distribuído pela plataforma [GeoSampa](https://geosampa.prefeitura.sp.gov.br) da Prefeitura de São Paulo para acessar os endereços disponíveis dentro da distância $d$ da origem.\n",
    "\n",
    "## WIP\n",
    "\n",
    "TODOs:\n",
    "- Unificar .shape de Logradouros e Distritos\n",
    "- \n",
    "\n",
    "## Results\n",
    "Describe and comment the most important results.\n",
    "\n",
    "## Suggested next steps\n",
    "State suggested next steps, based on results obtained in this notebook."
   ]
  },
  {
   "cell_type": "markdown",
   "metadata": {},
   "source": [
    "### Implementação em Código Python\n",
    "\n",
    "A implementação segue as etapas principais descritas abaixo:\n",
    "\n",
    "1. __Carregamento e Preparação dos Dados:__\n",
    "\n",
    "   - Utilizaremos a biblioteca `geopandas` para manipular arquivos `.shapefile`.\n",
    "   - \n",
    "2. __Cálculo das Probabilidades de Escolha:__\n",
    "\n",
    "   - Importe os dados do IBGE utilizando `pandas`.\n",
    "   - Calcularemos a probabilidade de um distrito $\\bar{d}$ com base na população e renda dos distritos.\n",
    "   $$\n",
    "   \\text{Probabilidade}(\\bar{d}) = \\frac{\\text{População}(\\bar{d}) \\cdot \\text{RendaMédia}(\\bar{d})}{\\sum^{distritos}_{d} (\\text{População}(d) \\cdot \\text{RendaMédia}(d))}\n",
    "   $$\n",
    "3. __Seleção do Endereço de Origem:__\n",
    "\n",
    "   - Escolha aleatória de uma rua com `numpy.random.choice`.\n",
    "   - Geração de um número dentro do intervalo válido.\n",
    "4. __Seleção do Endereço de Destino:__\n",
    "\n",
    "   - Use $P(r)$ para calcular o raio máximo:\n",
    "\n",
    "     $$\n",
    "     P(r) = \\frac{1}{\\sqrt{2\\pi}\\sigma} e^{-\\frac{r^2}{2\\sigma^2}}\n",
    "     $$\n",
    "   - Escolha uniformemente dentro do raio usando coordenadas do grafo.\n",
    "5. **Visualização dos Resultados:**\n",
    "\n",
    "   - Use `matplotlib` ou `folium` para criar mapas interativos.\n",
    "\n",
    "\n",
    "\n"
   ]
  },
  {
   "cell_type": "markdown",
   "metadata": {},
   "source": [
    "### Visualização e Validação\n",
    "\n",
    "Após a implementação, as corridas simuladas podem ser visualizadas em mapas interativos:\n",
    "\n",
    "- **Mapas com `folium`:** Representam pares de origem e destino.\n",
    "- **Gráficos:** Analisam estatisticamente a distribuição das distâncias e destinos.\n",
    "\n",
    "Além disso, as corridas geradas podem ser exportadas para arquivos `.csv` para uso em modelos de treinamento."
   ]
  },
  {
   "cell_type": "markdown",
   "metadata": {},
   "source": [
    "# Setup\n",
    "\n",
    "## Importar bibliotecas\n",
    "Importamos todas as bibliotecas Python necessárias"
   ]
  },
  {
   "cell_type": "code",
   "execution_count": 21,
   "metadata": {
    "ExecuteTime": {
     "end_time": "2019-06-16T14:44:50.874881Z",
     "start_time": "2019-06-16T14:44:38.616867Z"
    }
   },
   "outputs": [],
   "source": [
    "# Manipulação de dados\n",
    "import pandas as pd\n",
    "import numpy as np\n",
    "import geopandas as gpd\n",
    "\n",
    "# Opções para exibição de dados\n",
    "pd.options.display.max_columns = 50\n",
    "pd.options.display.max_rows = 30\n",
    "\n",
    "# Visualização de dados\n",
    "import matplotlib as plt\n",
    "    "
   ]
  },
  {
   "cell_type": "markdown",
   "metadata": {},
   "source": [
    "\n",
    "# Importação de Dados\n",
    "Importaremos todos os dados necessários para a análise."
   ]
  },
  {
   "cell_type": "code",
   "execution_count": 22,
   "metadata": {},
   "outputs": [],
   "source": [
    "# Carregar os dados do IBGE\n",
    "df_pop = pd.read_csv('data/population_parameters_rates_by_district.csv')\n",
    "df_renda = pd.read_csv('data/renda_media_distrito.csv')\n",
    "\n",
    "# Carregar os dados do geo-dataframe da cidade de São Paulo\n",
    "# gdf = gpd.read_file('data/mapas/SAD69-96_SHP/SAD69-96_SHP_logradouronbl_line.shp')\n",
    "\n"
   ]
  },
  {
   "cell_type": "markdown",
   "metadata": {},
   "source": [
    "# Processamento de Dados"
   ]
  },
  {
   "cell_type": "code",
   "execution_count": 42,
   "metadata": {},
   "outputs": [
    {
     "data": {
      "text/html": [
       "<div>\n",
       "<style scoped>\n",
       "    .dataframe tbody tr th:only-of-type {\n",
       "        vertical-align: middle;\n",
       "    }\n",
       "\n",
       "    .dataframe tbody tr th {\n",
       "        vertical-align: top;\n",
       "    }\n",
       "\n",
       "    .dataframe thead th {\n",
       "        text-align: right;\n",
       "    }\n",
       "</style>\n",
       "<table border=\"1\" class=\"dataframe\">\n",
       "  <thead>\n",
       "    <tr style=\"text-align: right;\">\n",
       "      <th></th>\n",
       "      <th>Nome_distrito</th>\n",
       "      <th>Probabilidade</th>\n",
       "    </tr>\n",
       "  </thead>\n",
       "  <tbody>\n",
       "    <tr>\n",
       "      <th>0</th>\n",
       "      <td>agua rasa</td>\n",
       "      <td>0.008669</td>\n",
       "    </tr>\n",
       "    <tr>\n",
       "      <th>1</th>\n",
       "      <td>alto de pinheiros</td>\n",
       "      <td>0.017343</td>\n",
       "    </tr>\n",
       "    <tr>\n",
       "      <th>2</th>\n",
       "      <td>anhanguera</td>\n",
       "      <td>0.005322</td>\n",
       "    </tr>\n",
       "    <tr>\n",
       "      <th>3</th>\n",
       "      <td>aricanduva</td>\n",
       "      <td>0.005759</td>\n",
       "    </tr>\n",
       "    <tr>\n",
       "      <th>4</th>\n",
       "      <td>artur alvim</td>\n",
       "      <td>0.005539</td>\n",
       "    </tr>\n",
       "    <tr>\n",
       "      <th>...</th>\n",
       "      <td>...</td>\n",
       "      <td>...</td>\n",
       "    </tr>\n",
       "    <tr>\n",
       "      <th>90</th>\n",
       "      <td>vila medeiros</td>\n",
       "      <td>0.007000</td>\n",
       "    </tr>\n",
       "    <tr>\n",
       "      <th>91</th>\n",
       "      <td>vila prudente</td>\n",
       "      <td>0.008727</td>\n",
       "    </tr>\n",
       "    <tr>\n",
       "      <th>92</th>\n",
       "      <td>vila sonia</td>\n",
       "      <td>0.014399</td>\n",
       "    </tr>\n",
       "    <tr>\n",
       "      <th>93</th>\n",
       "      <td>sao domingos</td>\n",
       "      <td>0.007517</td>\n",
       "    </tr>\n",
       "    <tr>\n",
       "      <th>94</th>\n",
       "      <td>lajeado</td>\n",
       "      <td>0.007834</td>\n",
       "    </tr>\n",
       "  </tbody>\n",
       "</table>\n",
       "<p>95 rows × 2 columns</p>\n",
       "</div>"
      ],
      "text/plain": [
       "        Nome_distrito  Probabilidade\n",
       "0           agua rasa       0.008669\n",
       "1   alto de pinheiros       0.017343\n",
       "2          anhanguera       0.005322\n",
       "3          aricanduva       0.005759\n",
       "4         artur alvim       0.005539\n",
       "..                ...            ...\n",
       "90      vila medeiros       0.007000\n",
       "91      vila prudente       0.008727\n",
       "92         vila sonia       0.014399\n",
       "93       sao domingos       0.007517\n",
       "94            lajeado       0.007834\n",
       "\n",
       "[95 rows x 2 columns]"
      ]
     },
     "execution_count": 42,
     "metadata": {},
     "output_type": "execute_result"
    }
   ],
   "source": [
    "# Remover espaços em branco e converter para minúsculas\n",
    "df_pop['Nome_distrito'] = df_pop['Nome_distrito'].str.strip().str.lower()\n",
    "df_renda['Nome_distrito'] = df_renda['Nome_distrito'].str.strip().str.lower()\n",
    "\n",
    "# Definir intervalos de renda e seus pontos médios\n",
    "income_intervals = {\n",
    "    'Menos de 2 SM': 1,\n",
    "    'De 2 a Menos de 5 SM': 3.5,\n",
    "    'De 5 a Menos de 10 SM': 7.5,\n",
    "    'De 10 a Menos de 15 SM': 12.5,\n",
    "    'De 15 a Menos de 25 SM': 20,\n",
    "    'De 25 SM e Mais ': 30\n",
    "}\n",
    "\n",
    "# Calcular a renda média para cada distrito\n",
    "for col, midpoint in income_intervals.items():\n",
    "    df_renda[col] = df_renda[col]/100 * midpoint\n",
    "\n",
    "\n",
    "df_renda['average_income'] = df_renda[list(income_intervals.keys())].sum(axis=1)\n",
    "\n",
    "# Normalizar a renda média\n",
    "min_income = df_renda['average_income'].min()\n",
    "max_income = df_renda['average_income'].max()\n",
    "df_renda['normalized_income'] = (df_renda['average_income'] - min_income) / (max_income - min_income)\n",
    "\n",
    "# Normalizar a população\n",
    "min_pop = df_pop['Pop_2020'].min()\n",
    "max_pop = df_pop['Pop_2020'].max()\n",
    "df_pop['normalized_pop'] = (df_pop['Pop_2020'] - min_pop) / (max_pop - min_pop)\n",
    "\n",
    "# Mesclar os dois dataframes na coluna 'Nome_distrito'\n",
    "df_prob = pd.merge(df_pop, df_renda, on='Nome_distrito')\n",
    "\n",
    "# Calcular a pontuação composta (média simples das normalizações)\n",
    "df_prob['composite_score'] = (df_prob['normalized_income'] + df_prob['normalized_pop']) / 2\n",
    "\n",
    "# Normalizar a pontuação composta para obter probabilidades\n",
    "total_score = df_prob['composite_score'].sum()\n",
    "df_prob['Probabilidade'] = df_prob['composite_score'] / total_score\n",
    "\n",
    "# Criar um novo dataframe com os resultados para checagem\n",
    "# result = df.copy()\n",
    "\n",
    "# Remover colunas desnecessárias\n",
    "df_prob = df_prob[[\"Nome_distrito\", \"Probabilidade\"]]\n",
    "\n",
    "# Exibir o resultado final com as probabilidades\n",
    "df_prob"
   ]
  },
  {
   "cell_type": "code",
   "execution_count": 50,
   "metadata": {},
   "outputs": [],
   "source": [
    "# Seleção do distrito de origem a partir do dataframe de probabilidades 'df_prob'\n",
    "\n",
    "def selecionar_distrito_de_origem(prob_distrito_de_origem=df_prob, geodataframe=gdf):\n",
    "    distritos = prob_distrito_de_origem['Nome_distrito']\n",
    "    probabilidades = prob_distrito_de_origem['Probabilidade']\n",
    "    distrito_amostrado = np.random.choice(distritos, p=probabilidades)\n",
    "    print(f\"Distrito amostrado: {distrito_amostrado}\")\n",
    "    # df_ruas = geodataframe[geodataframe['distrito'] == distrito_amostrado]"
   ]
  },
  {
   "cell_type": "markdown",
   "metadata": {},
   "source": [
    "# References\n",
    "We report here relevant references:\n",
    "1. author1, article1, journal1, year1, url1\n",
    "2. author2, article2, journal2, year2, url2"
   ]
  },
  {
   "cell_type": "code",
   "execution_count": 53,
   "metadata": {},
   "outputs": [
    {
     "name": "stdout",
     "output_type": "stream",
     "text": [
      "Distrito amostrado: campo grande\n"
     ]
    }
   ],
   "source": [
    "selecionar_distrito_de_origem()"
   ]
  },
  {
   "cell_type": "code",
   "execution_count": null,
   "metadata": {},
   "outputs": [],
   "source": []
  },
  {
   "cell_type": "code",
   "execution_count": null,
   "metadata": {},
   "outputs": [],
   "source": []
  }
 ],
 "metadata": {
  "kernelspec": {
   "display_name": ".venv",
   "language": "python",
   "name": "python3"
  },
  "language_info": {
   "codemirror_mode": {
    "name": "ipython",
    "version": 3
   },
   "file_extension": ".py",
   "mimetype": "text/x-python",
   "name": "python",
   "nbconvert_exporter": "python",
   "pygments_lexer": "ipython3",
   "version": "3.12.3"
  },
  "pycharm": {
   "stem_cell": {
    "cell_type": "raw",
    "metadata": {
     "collapsed": false
    },
    "source": []
   }
  },
  "toc": {
   "base_numbering": 1,
   "nav_menu": {},
   "number_sections": true,
   "sideBar": true,
   "skip_h1_title": false,
   "title_cell": "Table of Contents",
   "title_sidebar": "Contents",
   "toc_cell": false,
   "toc_position": {},
   "toc_section_display": true,
   "toc_window_display": false
  },
  "varInspector": {
   "cols": {
    "lenName": 16,
    "lenType": 16,
    "lenVar": 40
   },
   "kernels_config": {
    "python": {
     "delete_cmd_postfix": "",
     "delete_cmd_prefix": "del ",
     "library": "var_list.py",
     "varRefreshCmd": "print(var_dic_list())"
    },
    "r": {
     "delete_cmd_postfix": ") ",
     "delete_cmd_prefix": "rm(",
     "library": "var_list.r",
     "varRefreshCmd": "cat(var_dic_list()) "
    }
   },
   "types_to_exclude": [
    "module",
    "function",
    "builtin_function_or_method",
    "instance",
    "_Feature"
   ],
   "window_display": false
  }
 },
 "nbformat": 4,
 "nbformat_minor": 2
}
