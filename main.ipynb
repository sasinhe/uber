{
 "cells": [
  {
   "cell_type": "markdown",
   "metadata": {},
   "source": [
    "# Algoritmo de Seleção de Endereços - Projeto Uber\n",
    "\n",
    "\n",
    "## Objetivo\n",
    "O objetivo deste algoritmo é gerar um conjunto de pares de endereços na cidade de São Paulo para o treinamento de um modelo de precificação de corridas de Uber.\n",
    "\n",
    "## Metodologia\n",
    "O algoritmo terá natureza estocástica, dando preferência para endereços de chegada em distritos com maior densidade populacional e renda média por habitante (fatores relevantes para o uso do aplicativo Uber).\n",
    "\n",
    "Para os endereços de saída, o algoritmo usará uma função de decaimento exponencial $P(d)$ (descrita abaixo) para gerar uma distância máxima para o endereço do destino, onde escolherá o endereço de destino uniformemente dentro desse intervalo.\n",
    "\n",
    "\n",
    "Usaremos o conjunto de dados geográficos (disponível como um arquivo `.shape` com um grafo representando as ruas de São Paulo) distribuído pela plataforma [GeoSampa](https://geosampa.prefeitura.sp.gov.br) da Prefeitura de São Paulo para acessar os endereços disponíveis dentro da distância $d$ da origem.\n",
    "\n",
    "## WIP\n",
    "\n",
    "TODOs:\n",
    "- Unificar .shape de Logradouros e Distritos\n",
    "- Checar a necessidade de titulos e prep no logradouro (ver comentario)\n",
    "<!--\n",
    "print(gdf['lg_titulo'].unique())\n",
    "Reescrevendo os títulos em extenso \n",
    " gdf['lg_titulo'] = gdf['lg_titulo'].replace({\n",
    "     'ENG': 'Engenheiro',\n",
    "     'PROF': 'Professor'\n",
    "     ''\n",
    " })\n",
    "-->\n",
    "\n",
    "\n",
    "## Results\n",
    "Describe and comment the most important results.\n",
    "\n",
    "## Suggested next steps\n",
    "State suggested next steps, based on results obtained in this notebook."
   ]
  },
  {
   "cell_type": "markdown",
   "metadata": {},
   "source": [
    "### Implementação em Código Python\n",
    "\n",
    "A implementação segue as etapas principais descritas abaixo:\n",
    "\n",
    "1. __Carregamento e Preparação dos Dados:__\n",
    "\n",
    "   - Utilizaremos a biblioteca `geopandas` para manipular arquivos `.shapefile`.\n",
    "   - \n",
    "2. __Cálculo das Probabilidades de Escolha:__\n",
    "\n",
    "   - Importe os dados do IBGE utilizando `pandas`.\n",
    "   - Calcularemos a probabilidade de um distrito $\\bar{d}$ com base na população e renda dos distritos.\n",
    "   $$\n",
    "   \\text{Probabilidade}(\\bar{d}) = \\frac{\\text{População}(\\bar{d}) \\cdot \\text{RendaMédia}(\\bar{d})}{\\sum^{distritos}_{d} (\\text{População}(d) \\cdot \\text{RendaMédia}(d))}\n",
    "   $$\n",
    "3. __Seleção do Endereço de Origem:__\n",
    "\n",
    "   - Escolha aleatória de uma rua com `numpy.random.choice`.\n",
    "   - Geração de um número dentro do intervalo válido.\n",
    "4. __Seleção do Endereço de Destino:__\n",
    "\n",
    "   - Use $P(r)$ para calcular o raio máximo:\n",
    "\n",
    "     $$\n",
    "     P(r) = \\frac{1}{\\sqrt{2\\pi}\\sigma} e^{-\\frac{r^2}{2\\sigma^2}}\n",
    "     $$\n",
    "   - Escolha uniformemente dentro do raio usando coordenadas do grafo.\n",
    "5. **Visualização dos Resultados:**\n",
    "\n",
    "   - Use `matplotlib` ou `folium` para criar mapas interativos.\n",
    "\n",
    "\n",
    "\n"
   ]
  },
  {
   "cell_type": "markdown",
   "metadata": {},
   "source": [
    "### Visualização e Validação\n",
    "\n",
    "Após a implementação, as corridas simuladas podem ser visualizadas em mapas interativos:\n",
    "\n",
    "- **Mapas com `folium`:** Representam pares de origem e destino.\n",
    "- **Gráficos:** Analisam estatisticamente a distribuição das distâncias e destinos.\n",
    "\n",
    "Além disso, as corridas geradas podem ser exportadas para arquivos `.csv` para uso em modelos de treinamento."
   ]
  },
  {
   "cell_type": "markdown",
   "metadata": {},
   "source": [
    "# Setup\n",
    "\n",
    "## Importar bibliotecas\n",
    "Importamos todas as bibliotecas Python necessárias"
   ]
  },
  {
   "cell_type": "code",
   "execution_count": 14,
   "metadata": {
    "ExecuteTime": {
     "end_time": "2019-06-16T14:44:50.874881Z",
     "start_time": "2019-06-16T14:44:38.616867Z"
    }
   },
   "outputs": [],
   "source": [
    "# Manipulação de dados\n",
    "import pandas as pd\n",
    "import numpy as np\n",
    "\n",
    "\n",
    "# Opções para exibição de dados\n",
    "pd.options.display.max_columns = 50\n",
    "pd.options.display.max_rows = 30\n",
    "\n",
    "# Visualização de dados\n",
    "import matplotlib as plt\n",
    "\n",
    "# Geodata\n",
    "import geopandas as gpd\n",
    "from shapely.geometry import Point\n",
    "from geopy.geocoders import Nominatim\n",
    "    "
   ]
  },
  {
   "cell_type": "markdown",
   "metadata": {},
   "source": [
    "\n",
    "# Importação de Dados\n",
    "Importaremos todos os dados necessários para a análise."
   ]
  },
  {
   "cell_type": "code",
   "execution_count": 15,
   "metadata": {},
   "outputs": [],
   "source": [
    "# Carregar os dados do IBGE\n",
    "df_pop = pd.read_csv('data/population_parameters_rates_by_district.csv')\n",
    "df_renda = pd.read_csv('data/renda_media_distrito.csv')\n",
    "\n",
    "# Carregar os dados do geo-dataframe da cidade de São Paulo\n",
    "gdf = gpd.read_file('/home/sasinhe/uber/data/mapas/SaoPaulo_merged/sao_paulo.shp')\n",
    "\n"
   ]
  },
  {
   "cell_type": "markdown",
   "metadata": {},
   "source": [
    "# Processamento de Dados"
   ]
  },
  {
   "cell_type": "markdown",
   "metadata": {},
   "source": [
    "## Tratamento dso arquivos do IBGE\n",
    "\n",
    "O resultado dessa seção deve ser um dataframe `df_prob` com os nomes dos distritos e suas respectivas probabilidades"
   ]
  },
  {
   "cell_type": "code",
   "execution_count": 16,
   "metadata": {},
   "outputs": [
    {
     "data": {
      "text/html": [
       "<div>\n",
       "<style scoped>\n",
       "    .dataframe tbody tr th:only-of-type {\n",
       "        vertical-align: middle;\n",
       "    }\n",
       "\n",
       "    .dataframe tbody tr th {\n",
       "        vertical-align: top;\n",
       "    }\n",
       "\n",
       "    .dataframe thead th {\n",
       "        text-align: right;\n",
       "    }\n",
       "</style>\n",
       "<table border=\"1\" class=\"dataframe\">\n",
       "  <thead>\n",
       "    <tr style=\"text-align: right;\">\n",
       "      <th></th>\n",
       "      <th>Nome_distrito</th>\n",
       "      <th>Probabilidade</th>\n",
       "    </tr>\n",
       "  </thead>\n",
       "  <tbody>\n",
       "    <tr>\n",
       "      <th>0</th>\n",
       "      <td>agua rasa</td>\n",
       "      <td>0.009768</td>\n",
       "    </tr>\n",
       "    <tr>\n",
       "      <th>1</th>\n",
       "      <td>alto de pinheiros</td>\n",
       "      <td>0.014637</td>\n",
       "    </tr>\n",
       "    <tr>\n",
       "      <th>2</th>\n",
       "      <td>anhanguera</td>\n",
       "      <td>0.005868</td>\n",
       "    </tr>\n",
       "    <tr>\n",
       "      <th>3</th>\n",
       "      <td>aricanduva</td>\n",
       "      <td>0.007474</td>\n",
       "    </tr>\n",
       "    <tr>\n",
       "      <th>4</th>\n",
       "      <td>artur alvim</td>\n",
       "      <td>0.007562</td>\n",
       "    </tr>\n",
       "    <tr>\n",
       "      <th>...</th>\n",
       "      <td>...</td>\n",
       "      <td>...</td>\n",
       "    </tr>\n",
       "    <tr>\n",
       "      <th>90</th>\n",
       "      <td>vila medeiros</td>\n",
       "      <td>0.008441</td>\n",
       "    </tr>\n",
       "    <tr>\n",
       "      <th>91</th>\n",
       "      <td>vila prudente</td>\n",
       "      <td>0.009580</td>\n",
       "    </tr>\n",
       "    <tr>\n",
       "      <th>92</th>\n",
       "      <td>vila sonia</td>\n",
       "      <td>0.013279</td>\n",
       "    </tr>\n",
       "    <tr>\n",
       "      <th>93</th>\n",
       "      <td>sao domingos</td>\n",
       "      <td>0.008548</td>\n",
       "    </tr>\n",
       "    <tr>\n",
       "      <th>94</th>\n",
       "      <td>lajeado</td>\n",
       "      <td>0.007359</td>\n",
       "    </tr>\n",
       "  </tbody>\n",
       "</table>\n",
       "<p>95 rows × 2 columns</p>\n",
       "</div>"
      ],
      "text/plain": [
       "        Nome_distrito  Probabilidade\n",
       "0           agua rasa       0.009768\n",
       "1   alto de pinheiros       0.014637\n",
       "2          anhanguera       0.005868\n",
       "3          aricanduva       0.007474\n",
       "4         artur alvim       0.007562\n",
       "..                ...            ...\n",
       "90      vila medeiros       0.008441\n",
       "91      vila prudente       0.009580\n",
       "92         vila sonia       0.013279\n",
       "93       sao domingos       0.008548\n",
       "94            lajeado       0.007359\n",
       "\n",
       "[95 rows x 2 columns]"
      ]
     },
     "execution_count": 16,
     "metadata": {},
     "output_type": "execute_result"
    }
   ],
   "source": [
    "# Remover espaços em branco e converter para minúsculas\n",
    "df_pop['Nome_distrito'] = df_pop['Nome_distrito'].str.strip().str.lower()\n",
    "df_renda['Nome_distrito'] = df_renda['Nome_distrito'].str.strip().str.lower()\n",
    "\n",
    "# Definir intervalos de renda e seus pontos médios\n",
    "income_intervals = {\n",
    "    'Menos de 2 SM': 1,\n",
    "    'De 2 a Menos de 5 SM': 3.5,\n",
    "    'De 5 a Menos de 10 SM': 7.5,\n",
    "    'De 10 a Menos de 15 SM': 12.5,\n",
    "    'De 15 a Menos de 25 SM': 20,\n",
    "    'De 25 SM e Mais ': 30\n",
    "}\n",
    "\n",
    "# Calcular a renda média para cada distrito\n",
    "for col, midpoint in income_intervals.items():\n",
    "    df_renda[col] = df_renda[col]/100 * midpoint\n",
    "\n",
    "\n",
    "df_renda['average_income'] = df_renda[list(income_intervals.keys())].sum(axis=1)\n",
    "\n",
    "# Normalizar a renda média\n",
    "min_income = df_renda['average_income'].min()\n",
    "max_income = df_renda['average_income'].max()\n",
    "df_renda['normalized_income'] = (df_renda['average_income'] - min_income) / (max_income - min_income)\n",
    "\n",
    "# Normalizar a população\n",
    "min_pop = df_pop['Pop_2020'].min()\n",
    "max_pop = df_pop['Pop_2020'].max()\n",
    "df_pop['normalized_pop'] = (df_pop['Pop_2020'] - min_pop) / (max_pop - min_pop)\n",
    "\n",
    "# Mesclar os dois dataframes na coluna 'Nome_distrito'\n",
    "df_prob = pd.merge(df_pop, df_renda, on='Nome_distrito')\n",
    "\n",
    "# Calcular a pontuação composta (média simples das normalizações)\n",
    "df_prob['composite_score'] = (df_prob['normalized_income'] + df_prob['normalized_pop']) / 2\n",
    "\n",
    "# Normalizar a pontuação composta para obter probabilidades\n",
    "total_score = df_prob['composite_score'].sum()\n",
    "df_prob['Probabilidade'] = df_prob['composite_score'] / total_score\n",
    "\n",
    "# Criar um novo dataframe com os resultados para checagem\n",
    "# result = df.copy()\n",
    "\n",
    "# Remover colunas desnecessárias\n",
    "df_prob = df_prob[[\"Nome_distrito\", \"Probabilidade\"]]\n",
    "\n",
    "# Exibir o resultado final com as probabilidades\n",
    "df_prob"
   ]
  },
  {
   "cell_type": "markdown",
   "metadata": {},
   "source": [
    "## Tratamento de arquivos .shp (mapas)\n",
    "\n",
    "O resultado final deve ser um geo-dataframe `df_mapa` com as informações de cada logradouro"
   ]
  },
  {
   "cell_type": "code",
   "execution_count": 17,
   "metadata": {},
   "outputs": [
    {
     "name": "stderr",
     "output_type": "stream",
     "text": [
      "/tmp/ipykernel_3013/3216736753.py:20: FutureWarning: DataFrame.applymap has been deprecated. Use DataFrame.map instead.\n",
      "  gdf = gdf.applymap(lambda s: s.lower() if type(s) == str else s) # Deixa todas as entradas que forem string minusculas\n"
     ]
    }
   ],
   "source": [
    "# Carregar os dados do geo-dataframe da cidade de São Paulo\n",
    "gdf = gpd.read_file('/home/sasinhe/uber/data/mapas/SaoPaulo_merged/sao_paulo.shp')\n",
    "\n",
    "gdf.rename(columns={'ds_nomeds_': 'nome_distrito', 'lg_nome': 'nome_logradouro'}, inplace=True) # Renomear colunas\n",
    "gdf = gdf.loc[gdf['lg_tipo'].isin(['R', 'AV'])] # Filtrar apenas ruas e avenidas\n",
    "gdf['lg_tipo'] = gdf['lg_tipo'].map({'R' : 'Rua', 'AV': 'Avenida'}) # Mapear códigos para nomes\n",
    "\n",
    "gdf['num_ini'] = gdf[['lg_ini_par', 'lg_ini_imp']].min(axis=1) # Definir o número inicial\n",
    "gdf['num_fim'] = gdf[['lg_fim_par', 'lg_fim_imp']].max(axis=1) # Definir o número final\n",
    "gdf = gdf.dropna(subset=['num_fim']) # Remover valores nulos\n",
    "gdf = gdf.dropna(subset=['num_ini']) # Remover valores nulos\t\n",
    "gdf[['num_fim', 'num_ini']] = gdf[['num_fim', 'num_ini']].astype(int) # Converter para inteiros\n",
    "gdf = gdf[gdf['num_ini'] < gdf['num_fim']] # Remover entradas onde num_ini >= num_fim\n",
    "\n",
    "\n",
    "gdf.drop(columns=['lg_ini_par', 'lg_ini_imp', 'lg_fim_par', 'lg_fim_imp', 'lg_codlog', 'lg_or_geom', 'lg_seg_id', 'lg_id', 'lg_ordem'], inplace=True) # Remover colunas desnecessárias\n",
    "\n",
    "gdf['logradouro'] = gdf['lg_tipo'] + ' ' + gdf['lg_titulo'].fillna('') + ' ' + gdf['lg_prep'].fillna('') + ' ' + gdf['nome_logradouro']\n",
    "\n",
    "gdf = gdf.applymap(lambda s: s.lower() if type(s) == str else s) # Deixa todas as entradas que forem string minusculas"
   ]
  },
  {
   "cell_type": "markdown",
   "metadata": {},
   "source": [
    "# Criação do Algoritmo\n"
   ]
  },
  {
   "cell_type": "markdown",
   "metadata": {},
   "source": [
    "## Endereço de Origem"
   ]
  },
  {
   "cell_type": "code",
   "execution_count": 18,
   "metadata": {},
   "outputs": [],
   "source": [
    "def selecionar_distrito_de_origem(prob_distrito_de_origem=df_prob, geodataframe=gdf):\n",
    "    distritos = prob_distrito_de_origem['Nome_distrito']\n",
    "    probabilidades = prob_distrito_de_origem['Probabilidade']\n",
    "    distrito_amostrado = np.random.choice(distritos, p=probabilidades)\n",
    "    # print(f\"Distrito amostrado: {distrito_amostrado}\")\n",
    "    df_ruas = geodataframe[geodataframe['nome_distrito'] == distrito_amostrado]\n",
    "    return df_ruas"
   ]
  },
  {
   "cell_type": "code",
   "execution_count": 19,
   "metadata": {},
   "outputs": [],
   "source": [
    "def selecionar_endereço_de_origem():\n",
    "    df_ruas = selecionar_distrito_de_origem()\n",
    "    rua_amostrada = df_ruas.sample()\n",
    "    numero_amostrado = np.random.randint(rua_amostrada['num_ini'].values[0], rua_amostrada['num_fim'].values[0])\n",
    "    # print(f\"Rua amostrada: {rua_amostrada['logradouro'].values[0]}\")\n",
    "    return rua_amostrada, numero_amostrado\n",
    "    # return str(rua_amostrada['logradouro'].values[0]) + ', ' + str(numero_amostrado) + ', São Paulo SP'"
   ]
  },
  {
   "cell_type": "code",
   "execution_count": 20,
   "metadata": {},
   "outputs": [
    {
     "data": {
      "text/html": [
       "<div>\n",
       "<style scoped>\n",
       "    .dataframe tbody tr th:only-of-type {\n",
       "        vertical-align: middle;\n",
       "    }\n",
       "\n",
       "    .dataframe tbody tr th {\n",
       "        vertical-align: top;\n",
       "    }\n",
       "\n",
       "    .dataframe thead th {\n",
       "        text-align: right;\n",
       "    }\n",
       "</style>\n",
       "<table border=\"1\" class=\"dataframe\">\n",
       "  <thead>\n",
       "    <tr style=\"text-align: right;\">\n",
       "      <th></th>\n",
       "      <th>lg_tipo</th>\n",
       "      <th>lg_titulo</th>\n",
       "      <th>lg_prep</th>\n",
       "      <th>nome_logradouro</th>\n",
       "      <th>nome_distrito</th>\n",
       "      <th>geometry</th>\n",
       "      <th>num_ini</th>\n",
       "      <th>num_fim</th>\n",
       "      <th>logradouro</th>\n",
       "    </tr>\n",
       "  </thead>\n",
       "  <tbody>\n",
       "    <tr>\n",
       "      <th>72527</th>\n",
       "      <td>avenida</td>\n",
       "      <td>None</td>\n",
       "      <td>None</td>\n",
       "      <td>magalhaes de castro</td>\n",
       "      <td>morumbi</td>\n",
       "      <td>LINESTRING (326499.486 7391912.762, 326705.4 7...</td>\n",
       "      <td>2030</td>\n",
       "      <td>3483</td>\n",
       "      <td>avenida   magalhaes de castro</td>\n",
       "    </tr>\n",
       "  </tbody>\n",
       "</table>\n",
       "</div>"
      ],
      "text/plain": [
       "       lg_tipo lg_titulo lg_prep      nome_logradouro nome_distrito  \\\n",
       "72527  avenida      None    None  magalhaes de castro       morumbi   \n",
       "\n",
       "                                                geometry  num_ini  num_fim  \\\n",
       "72527  LINESTRING (326499.486 7391912.762, 326705.4 7...     2030     3483   \n",
       "\n",
       "                          logradouro  \n",
       "72527  avenida   magalhaes de castro  "
      ]
     },
     "execution_count": 20,
     "metadata": {},
     "output_type": "execute_result"
    }
   ],
   "source": [
    "selecionar_endereço_de_origem()[0]"
   ]
  },
  {
   "cell_type": "markdown",
   "metadata": {},
   "source": [
    "## Endereço de Destino"
   ]
  },
  {
   "cell_type": "markdown",
   "metadata": {},
   "source": [
    "#### Cálculo da Variável Aleatória $r$\n",
    "O raio $r$ da distância máxima do endereço de chegada é calculado a partir da distribuição gaussiana com parâmetros $\\mu$ e $\\sigma$:\n",
    "\n",
    "\n",
    "$$\n",
    "P(r) = \\frac{1}{\\sigma\\sqrt{2\\pi}} e^{-\\frac{(r- \\mu)^2}{2\\sigma^2}}\n",
    "$$\n",
    "\n",
    "Vamos estimar valores razoáveis para $\\mu$ e $\\sigma$ usando a média e o desvio padrão das distâncias de elementos de `gdf`: "
   ]
  },
  {
   "cell_type": "code",
   "execution_count": 21,
   "metadata": {},
   "outputs": [],
   "source": [
    "# TODO Otimizar o cálculo da matriz de distâncias\n",
    "# import geopandas as gpd\n",
    "# import numpy as np\n",
    "\n",
    "# def calcular_distancias_vetorizado(gdf):\n",
    "#     # Calcular a matriz de distâncias entre todos os pontos\n",
    "#     dist_matrix = gdf.geometry.apply(lambda geom1: gdf.geometry.distance(geom1))\n",
    "    \n",
    "#     # Extrair as distâncias superiores da matriz (evitar duplicatas e zeros)\n",
    "#     distancias = dist_matrix.values[np.triu_indices_from(dist_matrix, k=1)]\n",
    "    \n",
    "#     return distancias\n",
    "\n",
    "# def estimar_sigma(gdf):\n",
    "#     distancias = calcular_distancias_vetorizado(gdf)\n",
    "#     sigma = np.std(distancias)\n",
    "#     return sigma\n",
    "\n",
    "# # Estimar sigma\n",
    "# sigma = estimar_sigma(gdf)\n",
    "\n",
    "# # Exibir o valor estimado de sigma\n",
    "# print(f\"Sigma estimado: {sigma}\")\n",
    "\n",
    "############################################################################################################################################################################\n",
    "\n",
    "# No meio tempo, seguem estimativas pros parâmetros baseados em https://www.kaggle.com/code/noohinaaz/uber-driver-complete-data-analysis e na minha cabeça :P\n",
    "\n",
    "avg = 10 # [Km]\n",
    "std = 7 # [Km]"
   ]
  },
  {
   "cell_type": "markdown",
   "metadata": {},
   "source": [
    "### Endereço de Destino"
   ]
  },
  {
   "cell_type": "code",
   "execution_count": 22,
   "metadata": {},
   "outputs": [],
   "source": [
    "r = np.random.normal(avg, std)  # Gerar um valor aleatório de acordo com a distribuição normal\n",
    "\n",
    "def selecionar_gdf_de_destino(gdf, rua_origem, distance):\n",
    "    gdf_destinos = gdf[gdf.geometry.distance(rua_origem.geometry.iloc[0]) <= distance]\n",
    "    return gdf_destinos\n",
    "\n",
    "rua_origem = selecionar_endereço_de_origem()[0]\n",
    "gdf_destinos = selecionar_gdf_de_destino(gdf, rua_origem, r)"
   ]
  },
  {
   "cell_type": "code",
   "execution_count": 23,
   "metadata": {},
   "outputs": [],
   "source": [
    "def selecionar_endereço_de_destino(gdf, rua_origem, distance):\n",
    "    rua_amostrada = gdf_destinos.sample()\n",
    "    # print(rua_amostrada)\n",
    "    numero_amostrado = np.random.randint(rua_amostrada['num_ini'].values[0], rua_amostrada['num_fim'].values[0])\n",
    "    # print(f\"Rua amostrada: {rua_amostrada['logradouro'].values[0]}\")\n",
    "    return rua_amostrada, numero_amostrado\n"
   ]
  },
  {
   "cell_type": "markdown",
   "metadata": {},
   "source": [
    "# Conclusão\n",
    "\n",
    "Agora, concluiremos o algoritmo criando a função principal"
   ]
  },
  {
   "cell_type": "code",
   "execution_count": 24,
   "metadata": {},
   "outputs": [
    {
     "name": "stdout",
     "output_type": "stream",
     "text": [
      "Distância: 9.04 Km\n",
      "Origem: rua   abilio marques, 65\n",
      "Destino: rua   duartina, 426\n"
     ]
    }
   ],
   "source": [
    "\n",
    "\n",
    "def gerar_corrida(gdf, df_prob, gaussian_avg=10, gaussian_std=7):\n",
    "    r = abs(np.random.normal(gaussian_avg, gaussian_std))\n",
    "    print(f\"Distância: {r:.2f} Km\")\n",
    "    # Selecionar o endereço de origem\n",
    "    origem = selecionar_endereço_de_origem()\n",
    "    rua_origem = origem[0]\n",
    "    numero_origem = origem[1]\n",
    "    print(f\"Origem: {rua_origem['logradouro'].values[0]}, {numero_origem}\")\n",
    "    \n",
    "    # Selecionar o endereço de destino\n",
    "    gdf_destinos = selecionar_gdf_de_destino(gdf, rua_origem, r)\n",
    "    destino = selecionar_endereço_de_destino(gdf_destinos, origem, r)\n",
    "    rua_destino = destino[0]\n",
    "    numero_destino = destino[1]\n",
    "    print(f\"Destino: {rua_destino['logradouro'].values[0]}, {numero_destino}\")\n",
    "    \n",
    "    return [r, rua_origem['logradouro'].values[0], numero_origem, rua_destino['logradouro'].values[0], numero_destino]\n",
    "\n",
    "test = gerar_corrida(gdf, df_prob)\n",
    "    \n",
    "if '__name__' == '__main__':\n",
    "    gerar_corrida()"
   ]
  },
  {
   "cell_type": "markdown",
   "metadata": {},
   "source": [
    "Vamos gerar uma lista com 10K resultados para as próximas etapas do projeto"
   ]
  },
  {
   "cell_type": "code",
   "execution_count": null,
   "metadata": {},
   "outputs": [
    {
     "name": "stdout",
     "output_type": "stream",
     "text": [
      "Distância: 16.21 Km\n",
      "Origem: rua   poseidon, 15\n",
      "Destino: rua   duartina, 476\n",
      "Distância: 19.21 Km\n",
      "Origem: rua   alexandre fernandes, 273\n",
      "Destino: rua   descalvado, 156\n",
      "Distância: 5.49 Km\n",
      "Origem: rua   branco de morais, 367\n",
      "Destino: rua   duartina, 464\n",
      "Distância: 15.24 Km\n",
      "Origem: rua   teviot, 179\n",
      "Destino: rua   descalvado, 269\n",
      "Distância: 10.31 Km\n",
      "Origem: rua   luis augusto paschoal, 342\n",
      "Destino: rua   descalvado, 272\n",
      "Distância: 15.82 Km\n",
      "Origem: rua   marcos lopes, 173\n",
      "Destino: rua   descalvado, 258\n",
      "Distância: 27.85 Km\n",
      "Origem: avenida   rubem berta, 810\n",
      "Destino: rua   descalvado, 49\n",
      "Distância: 0.57 Km\n",
      "Origem: avenida prof  fonseca rodrigues, 2309\n",
      "Destino: rua   duartina, 435\n",
      "Distância: 19.00 Km\n",
      "Origem: rua   atalaia, 160\n",
      "Destino: rua   descalvado, 249\n",
      "Distância: 11.45 Km\n",
      "Origem: rua  dos capiunas, 218\n",
      "Destino: rua   descalvado, 158\n",
      "Distância: 6.00 Km\n",
      "Origem: rua   inula, 64\n",
      "Destino: rua   duartina, 458\n",
      "Distância: 1.82 Km\n",
      "Origem: rua   matarazzo, 120\n",
      "Destino: rua   descalvado, 253\n",
      "Distância: 7.54 Km\n",
      "Origem: rua br de bocaina, 23\n",
      "Destino: rua   descalvado, 257\n",
      "Distância: 3.82 Km\n",
      "Origem: avenida prof  francisco morato, 2691\n",
      "Destino: rua   descalvado, 265\n",
      "Distância: 8.14 Km\n",
      "Origem: rua profa  heloisa carneiro, 5\n",
      "Destino: rua   duartina, 482\n",
      "Distância: 14.55 Km\n",
      "Origem: avenida   chica luiza, 1155\n",
      "Destino: rua   descalvado, 215\n",
      "Distância: 12.96 Km\n",
      "Origem: rua   teodoro sampaio, 1185\n",
      "Destino: rua   duartina, 424\n",
      "Distância: 14.81 Km\n",
      "Origem: rua   vitoria, 743\n",
      "Destino: rua   descalvado, 117\n",
      "Distância: 15.49 Km\n",
      "Origem: rua   jose correia picanco, 619\n",
      "Destino: rua   duartina, 476\n",
      "Distância: 1.47 Km\n",
      "Origem: rua   matias de albuquerque, 33\n",
      "Destino: rua   descalvado, 260\n",
      "Distância: 6.13 Km\n",
      "Origem: avenida comen  sant'anna, 873\n",
      "Destino: rua   duartina, 470\n",
      "Distância: 3.30 Km\n",
      "Origem: rua   antonio acras filho, 72\n",
      "Destino: rua   duartina, 460\n",
      "Distância: 6.39 Km\n",
      "Origem: rua   algard, 539\n",
      "Destino: rua   duartina, 440\n",
      "Distância: 3.54 Km\n",
      "Origem: rua   caruru da bahia, 305\n",
      "Destino: rua   duartina, 472\n",
      "Distância: 6.50 Km\n",
      "Origem: rua   serra das divisoes, 653\n",
      "Destino: rua   descalvado, 258\n",
      "Distância: 12.26 Km\n",
      "Origem: rua   itapicuru, 109\n",
      "Destino: rua   duartina, 481\n",
      "Distância: 11.14 Km\n",
      "Origem: avenida   hebe camargo, 487\n",
      "Destino: rua   descalvado, 103\n",
      "Distância: 4.72 Km\n",
      "Origem: rua cap  cavalcanti, 170\n",
      "Destino: rua   descalvado, 186\n",
      "Distância: 18.91 Km\n",
      "Origem: rua min  gastao mesquita, 644\n",
      "Destino: rua   descalvado, 144\n",
      "Distância: 7.90 Km\n",
      "Origem: rua   bento quirino, 683\n",
      "Destino: rua   descalvado, 247\n",
      "Distância: 6.88 Km\n",
      "Origem: rua   bennet, 511\n",
      "Destino: rua   duartina, 457\n",
      "Distância: 15.20 Km\n",
      "Origem: rua   jacques felix, 312\n",
      "Destino: rua   duartina, 443\n",
      "Distância: 2.10 Km\n",
      "Origem: rua   marim, 428\n",
      "Destino: rua   descalvado, 265\n",
      "Distância: 12.89 Km\n",
      "Origem: rua   roque palmieri, 406\n",
      "Destino: rua   descalvado, 251\n",
      "Distância: 5.31 Km\n",
      "Origem: avenida brig  luis antonio, 4376\n",
      "Destino: rua   descalvado, 225\n",
      "Distância: 4.23 Km\n",
      "Origem: rua s  feliciano, 258\n",
      "Destino: rua   descalvado, 186\n",
      "Distância: 12.67 Km\n",
      "Origem: rua desem  paulo passalaqua, 317\n",
      "Destino: rua   descalvado, 272\n",
      "Distância: 14.76 Km\n",
      "Origem: rua   logrono, 321\n",
      "Destino: rua   duartina, 481\n",
      "Distância: 0.41 Km\n",
      "Origem: rua   margarida maria alves, 354\n",
      "Destino: rua   duartina, 460\n",
      "Distância: 6.67 Km\n",
      "Origem: rua   guido oreggia, 31\n",
      "Destino: rua   duartina, 454\n",
      "Distância: 3.62 Km\n",
      "Origem: rua   carlos weber, 855\n",
      "Destino: rua   descalvado, 140\n",
      "Distância: 10.82 Km\n",
      "Origem: avenida imp  leopoldina, 645\n",
      "Destino: rua   descalvado, 77\n",
      "Distância: 15.08 Km\n",
      "Origem: rua   bento fernandes, 69\n",
      "Destino: rua   descalvado, 48\n",
      "Distância: 3.83 Km\n",
      "Origem: avenida sto  amaro, 3673\n",
      "Destino: rua   duartina, 472\n",
      "Distância: 16.50 Km\n",
      "Origem: avenida pde  arlindo vieira, 1059\n",
      "Destino: rua   descalvado, 96\n",
      "Distância: 8.22 Km\n",
      "Origem: rua   maraney, 285\n",
      "Destino: rua   duartina, 473\n",
      "Distância: 11.64 Km\n",
      "Origem: rua   vicente feola, 104\n",
      "Destino: rua   duartina, 424\n",
      "Distância: 18.45 Km\n",
      "Origem: rua   diogo munhoz, 106\n",
      "Destino: rua   descalvado, 121\n",
      "Distância: 3.28 Km\n",
      "Origem: rua   orobo, 170\n"
     ]
    }
   ],
   "source": [
    "df_resultados = pd.DataFrame(columns=['Distância', 'Rua de Origem', 'Número de Origem', 'Rua de Destino', 'Número de Destino'])\n",
    "for i in range(1000):\n",
    "    df_resultados.loc[i] = gerar_corrida(gdf, df_prob)\n",
    "    \n",
    "\n",
    "df_resultados.to_csv('resultados.csv', index=False)"
   ]
  }
 ],
 "metadata": {
  "kernelspec": {
   "display_name": ".venv",
   "language": "python",
   "name": "python3"
  },
  "language_info": {
   "codemirror_mode": {
    "name": "ipython",
    "version": 3
   },
   "file_extension": ".py",
   "mimetype": "text/x-python",
   "name": "python",
   "nbconvert_exporter": "python",
   "pygments_lexer": "ipython3",
   "version": "3.12.3"
  },
  "pycharm": {
   "stem_cell": {
    "cell_type": "raw",
    "metadata": {
     "collapsed": false
    },
    "source": []
   }
  },
  "toc": {
   "base_numbering": 1,
   "nav_menu": {},
   "number_sections": true,
   "sideBar": true,
   "skip_h1_title": false,
   "title_cell": "Table of Contents",
   "title_sidebar": "Contents",
   "toc_cell": false,
   "toc_position": {},
   "toc_section_display": true,
   "toc_window_display": false
  },
  "varInspector": {
   "cols": {
    "lenName": 16,
    "lenType": 16,
    "lenVar": 40
   },
   "kernels_config": {
    "python": {
     "delete_cmd_postfix": "",
     "delete_cmd_prefix": "del ",
     "library": "var_list.py",
     "varRefreshCmd": "print(var_dic_list())"
    },
    "r": {
     "delete_cmd_postfix": ") ",
     "delete_cmd_prefix": "rm(",
     "library": "var_list.r",
     "varRefreshCmd": "cat(var_dic_list()) "
    }
   },
   "types_to_exclude": [
    "module",
    "function",
    "builtin_function_or_method",
    "instance",
    "_Feature"
   ],
   "window_display": false
  }
 },
 "nbformat": 4,
 "nbformat_minor": 2
}
